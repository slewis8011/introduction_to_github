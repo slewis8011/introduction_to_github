{
  "nbformat": 4,
  "nbformat_minor": 0,
  "metadata": {
    "colab": {
      "provenance": [],
      "authorship_tag": "ABX9TyO+EAKeDlsGEdd/JI2VQwbN",
      "include_colab_link": true
    },
    "kernelspec": {
      "name": "python3",
      "display_name": "Python 3"
    },
    "language_info": {
      "name": "python"
    }
  },
  "cells": [
    {
      "cell_type": "markdown",
      "metadata": {
        "id": "view-in-github",
        "colab_type": "text"
      },
      "source": [
        "<a href=\"https://colab.research.google.com/github/slewis8011/introduction_to_github/blob/main/Sydney_Lewis_portrait_generator.ipynb\" target=\"_parent\"><img src=\"https://colab.research.google.com/assets/colab-badge.svg\" alt=\"Open In Colab\"/></a>"
      ]
    },
    {
      "cell_type": "code",
      "source": [
        "#uploading turtle program\n",
        "!pip install ColabTurtlePlus"
      ],
      "metadata": {
        "colab": {
          "base_uri": "https://localhost:8080/"
        },
        "id": "8mWt4uI4xgFh",
        "outputId": "99919023-e8d4-4781-f55d-abe9857b617b"
      },
      "execution_count": 19,
      "outputs": [
        {
          "output_type": "stream",
          "name": "stdout",
          "text": [
            "Looking in indexes: https://pypi.org/simple, https://us-python.pkg.dev/colab-wheels/public/simple/\n",
            "Requirement already satisfied: ColabTurtlePlus in /usr/local/lib/python3.8/dist-packages (2.0.1)\n"
          ]
        }
      ]
    },
    {
      "cell_type": "code",
      "source": [
        "#importing turtle plus and setting funcitons \n",
        "from ColabTurtlePlus.Turtle import *\n",
        "\n",
        "clearscreen()\n",
        "setup(1000,1000)\n",
        "hideturtle()\n",
        "home()\n",
        "\n",
        "#turtles for portrait pieces\n",
        "\n",
        "hair = Turtle()\n",
        "hair.hideturtle()\n",
        "head = Turtle()\n",
        "head.hideturtle()\n",
        "neck = Turtle()\n",
        "neck.hideturtle()\n",
        "blush = Turtle()\n",
        "blush.hideturtle()\n",
        "weye = Turtle()\n",
        "weye.hideturtle()\n",
        "weye.color((255,255,255))\n",
        "\n",
        "pupil = Turtle()\n",
        "pupil.hideturtle()\n",
        "pupil.color((0,0,0))\n",
        "\n",
        "nose = Turtle()\n",
        "nose.hideturtle()\n",
        "mouth = Turtle()\n",
        "\n",
        "eyelid = Turtle()\n",
        "eyelid.hideturtle()\n",
        "eyelid.color((207, 150, 114))\n",
        "\n",
        "\n",
        "\n",
        "\n",
        "\n",
        "\n",
        "#square\n",
        "def draw_square(Turtle_obj, side_length):\n",
        " for i in range(4):\n",
        "  Turtle_obj.forward(side_length)\n",
        "  Turtle_obj.left(90)\n",
        "\n",
        "#triangle\n",
        "def draw_triangle(Turtle_obj,side_length):\n",
        "  for side in range(3):\n",
        "    Turtle_obj.fd(side_length)\n",
        "    Turtle_obj.lt(360/3)\n",
        "\n",
        "#polygon\n",
        "def draw_polygon(Turtle_obj, side_number, side_length):\n",
        "  for side in range(side_number):\n",
        "    Turtle_obj.fd(side_length)\n",
        "    Turtle_obj.lt(360/side_number)\n",
        "\n",
        "#rectangle\n",
        "def draw_rectangle(Turtle_obj, side_length1,side_length2):\n",
        " for i in range(2):\n",
        "  Turtle_obj.forward(side_length1)\n",
        "  Turtle_obj.left(90)\n",
        "  Turtle_obj.forward(side_length2)\n",
        "  Turtle_obj.left(90)\n",
        "\n",
        "#star\n",
        "def draw_star(Turtle_obj, side_length):\n",
        "  for i in range(6):\n",
        "    Turtle_obj.forward(side_length)\n",
        "    Turtle_obj.right(144)\n",
        "\n",
        "#reverse rectangle\n",
        "def draw_reverse_rectangle(Turtle_obj, side_length1,side_length2):\n",
        " for i in range(2):\n",
        "  Turtle_obj.forward(side_length1)\n",
        "  Turtle_obj.right(90)\n",
        "  Turtle_obj.forward(side_length2)\n",
        "  Turtle_obj.right(90)\n",
        "\n",
        "#using tutrle circle function\n",
        "#Turtle.circle(150)\n",
        "\n"
      ],
      "metadata": {
        "colab": {
          "base_uri": "https://localhost:8080/",
          "height": 1000
        },
        "id": "KxPIhK4hxZlG",
        "outputId": "547ac2a1-9fa6-4886-851b-83868b52af20"
      },
      "execution_count": 29,
      "outputs": [
        {
          "output_type": "display_data",
          "data": {
            "text/plain": [
              "<IPython.core.display.HTML object>"
            ],
            "text/html": [
              "\n",
              "      <svg width=\"1000\" height=\"1000\">  \n",
              "        <rect width=\"100%\" height=\"100%\" style=\"fill:white;stroke:;stroke-width:1\"/>\n",
              "        \n",
              "        \n",
              "        <line x1=\"500.0\" y1=\"500.0\" x2=\"500.0\" y2=\"500.0\" stroke-linecap=\"round\" style=\"stroke:black;stroke-width:1\" />\n",
              "        \n",
              "        \n",
              "        <g id=\"classic\" visibility=\"hidden\" transform=\"rotate(-90.0,500.0,500.0) translate(500.0, 500.0)\">\n",
              "<polygon points=\"-5,-4.5 0,-2.5 5,-4.5 0,4.5\" transform=\"skewX(0) scale(1,1)\" style=\"stroke:black;fill:black;stroke-width:1\" />\n",
              "</g><g id=\"classic\" visibility=\"hidden\" transform=\"rotate(-90,500.0,500.0) translate(500.0, 500.0)\">\n",
              "<polygon points=\"-5,-4.5 0,-2.5 5,-4.5 0,4.5\" transform=\"skewX(0) scale(1,1)\" style=\"stroke:black;fill:black;stroke-width:1\" />\n",
              "</g><g id=\"classic\" visibility=\"hidden\" transform=\"rotate(-90,500.0,500.0) translate(500.0, 500.0)\">\n",
              "<polygon points=\"-5,-4.5 0,-2.5 5,-4.5 0,4.5\" transform=\"skewX(0) scale(1,1)\" style=\"stroke:black;fill:black;stroke-width:1\" />\n",
              "</g><g id=\"classic\" visibility=\"hidden\" transform=\"rotate(-90,500.0,500.0) translate(500.0, 500.0)\">\n",
              "<polygon points=\"-5,-4.5 0,-2.5 5,-4.5 0,4.5\" transform=\"skewX(0) scale(1,1)\" style=\"stroke:black;fill:black;stroke-width:1\" />\n",
              "</g><g id=\"classic\" visibility=\"hidden\" transform=\"rotate(-90,500.0,500.0) translate(500.0, 500.0)\">\n",
              "<polygon points=\"-5,-4.5 0,-2.5 5,-4.5 0,4.5\" transform=\"skewX(0) scale(1,1)\" style=\"stroke:black;fill:black;stroke-width:1\" />\n",
              "</g><g id=\"classic\" visibility=\"hidden\" transform=\"rotate(-90,500.0,500.0) translate(500.0, 500.0)\">\n",
              "<polygon points=\"-5,-4.5 0,-2.5 5,-4.5 0,4.5\" transform=\"skewX(0) scale(1,1)\" style=\"stroke:rgb(255,255,255);fill:rgb(255,255,255);stroke-width:1\" />\n",
              "</g><g id=\"classic\" visibility=\"hidden\" transform=\"rotate(-90,500.0,500.0) translate(500.0, 500.0)\">\n",
              "<polygon points=\"-5,-4.5 0,-2.5 5,-4.5 0,4.5\" transform=\"skewX(0) scale(1,1)\" style=\"stroke:rgb(0,0,0);fill:rgb(0,0,0);stroke-width:1\" />\n",
              "</g><g id=\"classic\" visibility=\"hidden\" transform=\"rotate(-90,500.0,500.0) translate(500.0, 500.0)\">\n",
              "<polygon points=\"-5,-4.5 0,-2.5 5,-4.5 0,4.5\" transform=\"skewX(0) scale(1,1)\" style=\"stroke:black;fill:black;stroke-width:1\" />\n",
              "</g><g id=\"classic\" visibility=\"visible\" transform=\"rotate(-90,500.0,500.0) translate(500.0, 500.0)\">\n",
              "<polygon points=\"-5,-4.5 0,-2.5 5,-4.5 0,4.5\" transform=\"skewX(0) scale(1,1)\" style=\"stroke:black;fill:black;stroke-width:1\" />\n",
              "</g><g id=\"classic\" visibility=\"hidden\" transform=\"rotate(-90,500.0,500.0) translate(500.0, 500.0)\">\n",
              "<polygon points=\"-5,-4.5 0,-2.5 5,-4.5 0,4.5\" transform=\"skewX(0) scale(1,1)\" style=\"stroke:rgb(207,150,114);fill:rgb(207,150,114);stroke-width:1\" />\n",
              "</g>\n",
              "      </svg>\n",
              "    "
            ]
          },
          "metadata": {}
        }
      ]
    },
    {
      "cell_type": "code",
      "source": [
        "#building the variations within the generator \n",
        "def draw_hair(variation):\n",
        "  if variation == 1:\n",
        "    #drawing the hair\n",
        "    hair.jumpto(-97,-0)\n",
        "    hair.begin_fill()\n",
        "    draw_polygon(hair,6,200)\n",
        "    hair.end_fill()\n",
        "\n",
        "    hair.jumpto(-192,-224)\n",
        "    hair.begin_fill()\n",
        "    draw_polygon(hair,6,200)\n",
        "    hair.end_fill()\n",
        "\n",
        "    hair.jumpto(-1,-224)\n",
        "    hair.begin_fill()\n",
        "    draw_polygon(hair,6,200)\n",
        "    hair.end_fill()\n",
        "  \n",
        "  if variation == 2:\n",
        "    #hair\n",
        "    hair.jumpto(-350,150)\n",
        "    hair.begin_fill()\n",
        "    draw_star(hair,700)\n",
        "    hair.end_fill()\n",
        "  \n",
        "  if variation == 3:\n",
        "    #hair base\n",
        "    hair.jumpto(0,-200)\n",
        "    hair.begin_fill()\n",
        "    hair.circle(330)\n",
        "    hair.end_fill()\n",
        "\n",
        "    #buns\n",
        "    hair.jumpto(-200,-280)\n",
        "    hair.begin_fill()\n",
        "    hair.circle(200)\n",
        "    hair.end_fill()\n",
        "\n",
        "    hair.jumpto(200,-280)\n",
        "    hair.begin_fill()\n",
        "    hair.circle(200)\n",
        "    hair.end_fill()\n",
        "\n",
        "def draw_head(variation):\n",
        "  '''Function that takes in an integer and draws a head shape based on that choice'''\n",
        "  if variation == 1:\n",
        "\n",
        "    #ears\n",
        "    head.jumpto(-192,-50)\n",
        "    head.begin_fill()\n",
        "    head.circle(61)\n",
        "    head.end_fill()\n",
        "\n",
        "    head.jumpto(192,-50)\n",
        "    head.begin_fill()\n",
        "    head.circle(61)\n",
        "    head.end_fill()\n",
        "\n",
        "    #neck\n",
        "    neck.jumpto(-115,-420)\n",
        "    neck.begin_fill()\n",
        "    draw_rectangle(neck,230,200)\n",
        "    neck.end_fill()\n",
        "    #head\n",
        "    head.jumpto(0,-250)\n",
        "    head.begin_fill()\n",
        "    head.circle(215)\n",
        "    head.end_fill()\n",
        "\n",
        "    #blush\n",
        "    blush.jumpto(110,-110)\n",
        "    blush.begin_fill()\n",
        "    blush.circle(50)\n",
        "    blush.end_fill()\n",
        "\n",
        "    blush.jumpto(-110,-110)\n",
        "    blush.begin_fill()\n",
        "    blush.circle(50)\n",
        "    blush.end_fill()\n",
        "\n",
        "  if variation == 2:\n",
        "    #ears\n",
        "    head.jumpto(150,10)\n",
        "    head.begin_fill()\n",
        "    head.circle(35)\n",
        "    head.end_fill()\n",
        "\n",
        "    head.jumpto(-150,10)\n",
        "    head.begin_fill()\n",
        "    head.circle(35)\n",
        "    head.end_fill()\n",
        "\n",
        "    #head base\n",
        "    head.jumpto(0,-50)\n",
        "    head.begin_fill()\n",
        "    head.circle(150)\n",
        "    head.end_fill()\n",
        "\n",
        "    #neck\n",
        "    neck.jumpto(-100,-120)\n",
        "    neck.begin_fill()\n",
        "    draw_reverse_rectangle(neck,200,150)\n",
        "    neck.end_fill()\n",
        "\n",
        "    #chin\n",
        "    head.jumpto(-135,-125)\n",
        "    head.begin_fill()\n",
        "    draw_square(head,270)\n",
        "    head.end_fill()\n",
        "\n",
        "  if variation == 3:\n",
        "    #head\n",
        "    head.jumpto(-120,-190)\n",
        "    head.begin_fill()\n",
        "    draw_polygon(head,6,245)\n",
        "    head.end_fill()\n",
        "    \n",
        "    #neck\n",
        "    neck.jumpto(-95,-190)\n",
        "    neck.begin_fill()\n",
        "    draw_reverse_rectangle(neck,180,200)\n",
        "    neck.end_fill()\n",
        "  \n",
        "    #blush\n",
        "    blush.jumpto(-150,0)\n",
        "    blush.begin_fill()\n",
        "    draw_star(blush,75)\n",
        "    blush.end_fill()\n",
        "\n",
        "    blush.jumpto(150,0)\n",
        "    blush.begin_fill()\n",
        "    draw_star(blush,75)\n",
        "    blush.end_fill()\n",
        "\n",
        "def draw_eyes(variation):\n",
        "  if variation ==1:\n",
        "    eyebrow =Turtle()\n",
        "    eyebrow.hideturtle()\n",
        "    eyebrow.color((227, 90, 36))\n",
        "\n",
        "    #eye whites\n",
        "    weye.jumpto(-80,0)\n",
        "    weye.begin_fill()\n",
        "    weye.circle(45)\n",
        "    weye.end_fill()\n",
        "\n",
        "    weye.jumpto(80,0)\n",
        "    weye.begin_fill()\n",
        "    weye.circle(45)\n",
        "    weye.end_fill()\n",
        "\n",
        "    #pupil\n",
        "    pupil.jumpto(-80,0)\n",
        "    pupil.begin_fill()\n",
        "    pupil.circle(30)\n",
        "    pupil.end_fill()\n",
        "\n",
        "    pupil.jumpto(80,0)\n",
        "    pupil.begin_fill()\n",
        "    pupil.circle(30)\n",
        "    pupil.end_fill()\n",
        "\n",
        "    #eyebrows\n",
        "    eyebrow.jumpto(30,95)\n",
        "    eyebrow.hideturtle()\n",
        "\n",
        "    eyebrow.begin_fill()\n",
        "    draw_rectangle(eyebrow,100,20)\n",
        "    eyebrow.end_fill()\n",
        "\n",
        "    eyebrow.jumpto(-130,95)\n",
        "    eyebrow.begin_fill()\n",
        "    draw_rectangle(eyebrow,100,20)\n",
        "    eyebrow.end_fill()\n",
        "  \n",
        "  if variation ==2:\n",
        "    eyebrow =Turtle()\n",
        "    eyebrow.color((120, 238, 240))\n",
        "    eyebrow.hideturtle()\n",
        "\n",
        "    #eye base\n",
        "    weye.jumpto(-100,50)\n",
        "    weye.begin_fill()\n",
        "    weye.circle(40)\n",
        "    weye.end_fill()\n",
        "\n",
        "    weye.jumpto(100,50)\n",
        "    weye.begin_fill()\n",
        "    weye.circle(40)\n",
        "    weye.end_fill()\n",
        "\n",
        "    pupil.jumpto(-100,75)\n",
        "    pupil.begin_fill()\n",
        "    pupil.circle(30)\n",
        "    pupil.end_fill()\n",
        "\n",
        "    pupil.jumpto(100,75)\n",
        "    pupil.begin_fill()\n",
        "    pupil.circle(30)\n",
        "    pupil.end_fill()\n",
        "\n",
        "    #eyelid\n",
        "\n",
        "    eyelid.jumpto(-100,107)\n",
        "    eyelid.begin_fill()\n",
        "    eyelid.circle(40)\n",
        "    eyelid.end_fill()\n",
        "\n",
        "    eyelid.jumpto(100,107)\n",
        "    eyelid.begin_fill()\n",
        "    eyelid.circle(40)\n",
        "    eyelid.end_fill()\n",
        "\n",
        "    #eyebrow\n",
        "    eyebrow.jumpto(-100,140)\n",
        "    eyebrow.begin_fill()\n",
        "    draw_rectangle(eyebrow,200,30)\n",
        "    eyebrow.end_fill()\n",
        "\n",
        "  if variation == 3:\n",
        "    eyebrow =Turtle()\n",
        "    eyebrow.color((99, 70, 179))\n",
        "\n",
        "    #white of eye\n",
        "    weye.jumpto(-100,75)\n",
        "    weye.begin_fill()\n",
        "    weye.circle(55)\n",
        "    weye.end_fill()\n",
        "\n",
        "    weye.jumpto(100,75)\n",
        "    weye.begin_fill()\n",
        "    weye.circle(55)\n",
        "    weye.end_fill()\n",
        "\n",
        "    #pupil\n",
        "    pupil.jumpto(-100,100)\n",
        "    pupil.begin_fill()\n",
        "    pupil.circle(35)\n",
        "    pupil.end_fill()\n",
        "\n",
        "    pupil.jumpto(100,100)\n",
        "    pupil.begin_fill()\n",
        "    pupil.circle(35)\n",
        "    pupil.end_fill()\n",
        "\n",
        "    #eyebrows\n",
        "\n",
        "    eyebrow.jumpto(-150,200)\n",
        "    eyebrow.lt(45)\n",
        "    eyebrow.fd(30)\n",
        "    eyebrow.rt(45)\n",
        "    eyebrow.fd(75)\n",
        "\n",
        "    eyebrow.jumpto(85,200)\n",
        "    eyebrow.fd(75)\n",
        "    eyebrow.rt(45)\n",
        "    eyebrow.fd(30)\n",
        "\n",
        "def draw_nose(variation):\n",
        "  if variation == 1:\n",
        "    #nose\n",
        "    nose.jumpto(-35,-50)\n",
        "    nose.begin_fill()\n",
        "    draw_triangle(nose,80)\n",
        "    nose.end_fill()\n",
        "\n",
        "  if variation == 2:\n",
        "    #nose\n",
        "    nose.jumpto(-12,40)\n",
        "    nose.begin_fill()\n",
        "    draw_reverse_rectangle(nose,25,55)\n",
        "    nose.end_fill()\n",
        "\n",
        "  if variation == 3:\n",
        "    #nose\n",
        "    nose.begin_fill()\n",
        "    nose.circle(40)\n",
        "    nose.end_fill()\n",
        "\n",
        "def draw_mouth(variation):\n",
        "  if variation == 1:   \n",
        "    #mouth\n",
        "    mouth.jumpto(0,-200)\n",
        "    mouth.begin_fill()\n",
        "    mouth.circle(50)\n",
        "    mouth.end_fill()\n",
        "\n",
        "  if variation == 2:\n",
        "    #mouth\n",
        "    mouth.jumpto(-45,-100)\n",
        "    mouth.begin_fill()\n",
        "    draw_rectangle(mouth,100,25)\n",
        "    mouth.end_fill()\n",
        "\n",
        "  if variation == 3:\n",
        "    #mouth\n",
        "    mouth.jumpto(0,-120)\n",
        "    mouth.begin_fill()\n",
        "    mouth.circle(30)\n",
        "    mouth.end_fill()\n",
        "\n",
        "    mouth.jumpto(0,-150)\n",
        "    mouth.begin_fill()\n",
        "    mouth.circle(30)\n",
        "    mouth.end_fill()"
      ],
      "metadata": {
        "id": "BIkuPWKexxD0"
      },
      "execution_count": 30,
      "outputs": []
    },
    {
      "cell_type": "markdown",
      "source": [
        "Below are three color palettes with the functions to call on the different features from each base portrait.\n",
        "\n",
        "I made different combinaitons and used each color palette from the original portraits."
      ],
      "metadata": {
        "id": "etdiHf6hx6l1"
      }
    },
    {
      "cell_type": "code",
      "source": [
        "#color palette 1\n",
        "hair.color((235, 64, 52))\n",
        "head.color((207, 150, 114))\n",
        "neck.color((214, 158, 122))\n",
        "blush.color((214, 150, 188))\n",
        "nose.color((138, 101, 77))\n",
        "mouth.color((179, 21, 37))\n",
        "\n",
        "draw_hair(3)\n",
        "draw_head(2) \n",
        "draw_eyes(1)\n",
        "draw_nose(1)\n",
        "draw_mouth(2)\n",
        "\n",
        "\n",
        "home()"
      ],
      "metadata": {
        "id": "fqNaRxgkzI_j",
        "outputId": "4f39b424-53d3-4c3d-80f7-a93c34fe6840",
        "colab": {
          "base_uri": "https://localhost:8080/",
          "height": 1000
        }
      },
      "execution_count": 17,
      "outputs": [
        {
          "output_type": "display_data",
          "data": {
            "text/plain": [
              "<IPython.core.display.HTML object>"
            ],
            "text/html": [
              "\n",
              "      <svg width=\"1000\" height=\"1000\">  \n",
              "        <rect width=\"100%\" height=\"100%\" style=\"fill:white;stroke:;stroke-width:1\"/>\n",
              "        \n",
              "        \n",
              "        <line x1=\"500.0\" y1=\"500.0\" x2=\"500.0\" y2=\"500.0\" stroke-linecap=\"round\" style=\"stroke:black;stroke-width:1\" /><line x1=\"500.0\" y1=\"500.0\" x2=\"500.0\" y2=\"500.0\" stroke-linecap=\"round\" style=\"stroke:black;stroke-width:1\" /><path fill-rule=\"evenodd\" fill-opacity=\"1\" d=\"M 500.0 700.0  A 330 330 0 0 0 500.0 40.0  A 330 330 0 0 0 500.0 700.0 \" stroke-linecap=\"round\" style=\"stroke:rgb(235,64,52);stroke-width:1\" fill=\"rgb(235,64,52)\" /><path fill-rule=\"evenodd\" fill-opacity=\"1\" d=\"M 300.0 780.0  A 200 200 0 0 0 300.0 380.0  A 200 200 0 0 0 300.0 780.0 \" stroke-linecap=\"round\" style=\"stroke:rgb(235,64,52);stroke-width:1\" fill=\"rgb(235,64,52)\" /><path fill-rule=\"evenodd\" fill-opacity=\"1\" d=\"M 700.0 780.0  A 200 200 0 0 0 700.0 380.0  A 200 200 0 0 0 700.0 780.0 \" stroke-linecap=\"round\" style=\"stroke:rgb(235,64,52);stroke-width:1\" fill=\"rgb(235,64,52)\" /><path fill-rule=\"evenodd\" fill-opacity=\"1\" d=\"M 650.0 490.0  A 35 35 0 0 0 650.0 420.0  A 35 35 0 0 0 650.0 490.0 \" stroke-linecap=\"round\" style=\"stroke:rgb(207,150,114);stroke-width:1\" fill=\"rgb(207,150,114)\" /><path fill-rule=\"evenodd\" fill-opacity=\"1\" d=\"M 350.0 490.0  A 35 35 0 0 0 350.0 420.0  A 35 35 0 0 0 350.0 490.0 \" stroke-linecap=\"round\" style=\"stroke:rgb(207,150,114);stroke-width:1\" fill=\"rgb(207,150,114)\" /><path fill-rule=\"evenodd\" fill-opacity=\"1\" d=\"M 500.0 550.0  A 150 150 0 0 0 500.0 250.0  A 150 150 0 0 0 500.0 550.0 \" stroke-linecap=\"round\" style=\"stroke:rgb(207,150,114);stroke-width:1\" fill=\"rgb(207,150,114)\" /><path fill-rule=\"evenodd\" fill-opacity=\"1\" d=\"M 365.0 625.0  L 635.0 625.0  L 635.0 355.0  L 365.0 355.0  L 365.0 625.0 \" stroke-linecap=\"round\" style=\"stroke:rgb(207,150,114);stroke-width:1\" fill=\"rgb(207,150,114)\" /><path fill-rule=\"evenodd\" fill-opacity=\"1\" d=\"M 400.0 620.0  L 600.0 620.0  L 600.0 770.0  L 400.0 770.0  L 400.0 620.0 \" stroke-linecap=\"round\" style=\"stroke:rgb(214,158,122);stroke-width:1\" fill=\"rgb(214,158,122)\" /><path fill-rule=\"evenodd\" fill-opacity=\"1\" d=\"M 420.0 500.0  A 45 45 0 0 0 420.0 410.0  A 45 45 0 0 0 420.0 500.0 \" stroke-linecap=\"round\" style=\"stroke:rgb(255,255,255);stroke-width:1\" fill=\"rgb(255,255,255)\" /><path fill-rule=\"evenodd\" fill-opacity=\"1\" d=\"M 580.0 500.0  A 45 45 0 0 0 580.0 410.0  A 45 45 0 0 0 580.0 500.0 \" stroke-linecap=\"round\" style=\"stroke:rgb(255,255,255);stroke-width:1\" fill=\"rgb(255,255,255)\" /><path fill-rule=\"evenodd\" fill-opacity=\"1\" d=\"M 420.0 500.0  A 30 30 0 0 0 420.0 440.0  A 30 30 0 0 0 420.0 500.0 \" stroke-linecap=\"round\" style=\"stroke:rgb(0,0,0);stroke-width:1\" fill=\"rgb(0,0,0)\" /><path fill-rule=\"evenodd\" fill-opacity=\"1\" d=\"M 580.0 500.0  A 30 30 0 0 0 580.0 440.0  A 30 30 0 0 0 580.0 500.0 \" stroke-linecap=\"round\" style=\"stroke:rgb(0,0,0);stroke-width:1\" fill=\"rgb(0,0,0)\" /><path fill-rule=\"evenodd\" fill-opacity=\"1\" d=\"M 465.0 550.0  L 545.0 550.0  L 505.0 480.718  L 465.0 550.0 \" stroke-linecap=\"round\" style=\"stroke:rgb(138,101,77);stroke-width:1\" fill=\"rgb(138,101,77)\" /><path fill-rule=\"evenodd\" fill-opacity=\"1\" d=\"M 455.0 600.0  L 555.0 600.0  L 555.0 575.0  L 455.0 575.0  L 455.0 600.0 \" stroke-linecap=\"round\" style=\"stroke:rgb(179,21,37);stroke-width:1\" fill=\"rgb(179,21,37)\" /><path fill-rule=\"evenodd\" fill-opacity=\"1\" d=\"M 530.0 405.0  L 630.0 405.0  L 630.0 385.0  L 530.0 385.0  L 530.0 405.0 \" stroke-linecap=\"round\" style=\"stroke:rgb(227,90,36);stroke-width:1\" fill=\"rgb(227,90,36)\" /><path fill-rule=\"evenodd\" fill-opacity=\"1\" d=\"M 370.0 405.0  L 470.0 405.0  L 470.0 385.0  L 370.0 385.0  L 370.0 405.0 \" stroke-linecap=\"round\" style=\"stroke:rgb(227,90,36);stroke-width:1\" fill=\"rgb(227,90,36)\" />\n",
              "        \n",
              "        \n",
              "        <g id=\"classic\" visibility=\"hidden\" transform=\"rotate(-90.0,500.0,500.0) translate(500.0, 500.0)\">\n",
              "<polygon points=\"-5,-4.5 0,-2.5 5,-4.5 0,4.5\" transform=\"skewX(0) scale(1,1)\" style=\"stroke:black;fill:black;stroke-width:1\" />\n",
              "</g><g id=\"classic\" visibility=\"hidden\" transform=\"rotate(-90.0,700.0,780.0) translate(700.0, 780.0)\">\n",
              "<polygon points=\"-5,-4.5 0,-2.5 5,-4.5 0,4.5\" transform=\"skewX(0) scale(1,1)\" style=\"stroke:rgb(235,64,52);fill:rgb(235,64,52);stroke-width:1\" />\n",
              "</g><g id=\"classic\" visibility=\"hidden\" transform=\"rotate(-90.0,365.0,625.0) translate(365.0, 625.0)\">\n",
              "<polygon points=\"-5,-4.5 0,-2.5 5,-4.5 0,4.5\" transform=\"skewX(0) scale(1,1)\" style=\"stroke:rgb(207,150,114);fill:rgb(207,150,114);stroke-width:1\" />\n",
              "</g><g id=\"classic\" visibility=\"hidden\" transform=\"rotate(-90,400.0,620.0) translate(400.0, 620.0)\">\n",
              "<polygon points=\"-5,-4.5 0,-2.5 5,-4.5 0,4.5\" transform=\"skewX(0) scale(1,1)\" style=\"stroke:rgb(214,158,122);fill:rgb(214,158,122);stroke-width:1\" />\n",
              "</g><g id=\"classic\" visibility=\"hidden\" transform=\"rotate(-90,500.0,500.0) translate(500.0, 500.0)\">\n",
              "<polygon points=\"-5,-4.5 0,-2.5 5,-4.5 0,4.5\" transform=\"skewX(0) scale(1,1)\" style=\"stroke:rgb(214,150,188);fill:rgb(214,150,188);stroke-width:1\" />\n",
              "</g><g id=\"classic\" visibility=\"hidden\" transform=\"rotate(-90.0,580.0,500.0) translate(580.0, 500.0)\">\n",
              "<polygon points=\"-5,-4.5 0,-2.5 5,-4.5 0,4.5\" transform=\"skewX(0) scale(1,1)\" style=\"stroke:rgb(255,255,255);fill:rgb(255,255,255);stroke-width:1\" />\n",
              "</g><g id=\"classic\" visibility=\"hidden\" transform=\"rotate(-90.0,580.0,500.0) translate(580.0, 500.0)\">\n",
              "<polygon points=\"-5,-4.5 0,-2.5 5,-4.5 0,4.5\" transform=\"skewX(0) scale(1,1)\" style=\"stroke:rgb(0,0,0);fill:rgb(0,0,0);stroke-width:1\" />\n",
              "</g><g id=\"classic\" visibility=\"hidden\" transform=\"rotate(-90.0,465.0,550.0) translate(465.0, 550.0)\">\n",
              "<polygon points=\"-5,-4.5 0,-2.5 5,-4.5 0,4.5\" transform=\"skewX(0) scale(1,1)\" style=\"stroke:rgb(138,101,77);fill:rgb(138,101,77);stroke-width:1\" />\n",
              "</g><g id=\"classic\" visibility=\"visible\" transform=\"rotate(-90,455.0,600.0) translate(455.0, 600.0)\">\n",
              "<polygon points=\"-5,-4.5 0,-2.5 5,-4.5 0,4.5\" transform=\"skewX(0) scale(1,1)\" style=\"stroke:rgb(179,21,37);fill:rgb(179,21,37);stroke-width:1\" />\n",
              "</g><g id=\"classic\" visibility=\"hidden\" transform=\"rotate(-90,500.0,500.0) translate(500.0, 500.0)\">\n",
              "<polygon points=\"-5,-4.5 0,-2.5 5,-4.5 0,4.5\" transform=\"skewX(0) scale(1,1)\" style=\"stroke:rgb(207,150,114);fill:rgb(207,150,114);stroke-width:1\" />\n",
              "</g><g id=\"classic\" visibility=\"hidden\" transform=\"rotate(-90,370.0,405.0) translate(370.0, 405.0)\">\n",
              "<polygon points=\"-5,-4.5 0,-2.5 5,-4.5 0,4.5\" transform=\"skewX(0) scale(1,1)\" style=\"stroke:rgb(227,90,36);fill:rgb(227,90,36);stroke-width:1\" />\n",
              "</g>\n",
              "      </svg>\n",
              "    "
            ]
          },
          "metadata": {}
        }
      ]
    },
    {
      "cell_type": "code",
      "execution_count": 18,
      "metadata": {
        "id": "8LMewAyeSp64"
      },
      "outputs": [],
      "source": [
        "#saving the portrait\n",
        "screen_obj = Screen()\n",
        "#save screen as svg\n",
        "screen_obj.saveSVG('Gen_portrait_1.svg', False)"
      ]
    },
    {
      "cell_type": "code",
      "source": [
        "#color palette 2\n",
        "hair.color((120, 238, 240))\n",
        "head.color((245, 206, 162))\n",
        "neck.color((219, 184, 145))\n",
        "nose.color((219, 184, 145))\n",
        "mouth.color((128, 65, 52))\n",
        "hair.color((99, 70, 179))\n",
        "\n",
        "draw_hair(1)\n",
        "draw_head(2) \n",
        "draw_eyes(3)\n",
        "draw_nose(2)\n",
        "draw_mouth(3)\n",
        "\n",
        "\n",
        "home()"
      ],
      "metadata": {
        "colab": {
          "base_uri": "https://localhost:8080/",
          "height": 1000
        },
        "id": "Cr0sdprPqgnR",
        "outputId": "9fbc7378-2e77-4e57-c682-35ebbeff5a76"
      },
      "execution_count": 27,
      "outputs": [
        {
          "output_type": "display_data",
          "data": {
            "text/plain": [
              "<IPython.core.display.HTML object>"
            ],
            "text/html": [
              "\n",
              "      <svg width=\"1000\" height=\"1000\">  \n",
              "        <rect width=\"100%\" height=\"100%\" style=\"fill:white;stroke:;stroke-width:1\"/>\n",
              "        \n",
              "        \n",
              "        <line x1=\"500.0\" y1=\"500.0\" x2=\"500.0\" y2=\"500.0\" stroke-linecap=\"round\" style=\"stroke:black;stroke-width:1\" /><line x1=\"500.0\" y1=\"500.0\" x2=\"500.0\" y2=\"500.0\" stroke-linecap=\"round\" style=\"stroke:black;stroke-width:1\" /><path fill-rule=\"evenodd\" fill-opacity=\"1\" d=\"M 403.0 500.0  L 603.0 500.0  L 703.0 326.795  L 603.0 153.59  L 403.0 153.59  L 303.0 326.795  L 403.0 500.0 \" stroke-linecap=\"round\" style=\"stroke:rgb(99,70,179);stroke-width:1\" fill=\"rgb(99,70,179)\" /><path fill-rule=\"evenodd\" fill-opacity=\"1\" d=\"M 308.0 724.0  L 508.0 724.0  L 608.0 550.795  L 508.0 377.59  L 308.0 377.59  L 208.0 550.795  L 308.0 724.0 \" stroke-linecap=\"round\" style=\"stroke:rgb(99,70,179);stroke-width:1\" fill=\"rgb(99,70,179)\" /><path fill-rule=\"evenodd\" fill-opacity=\"1\" d=\"M 499.0 724.0  L 699.0 724.0  L 799.0 550.795  L 699.0 377.59  L 499.0 377.59  L 399.0 550.795  L 499.0 724.0 \" stroke-linecap=\"round\" style=\"stroke:rgb(99,70,179);stroke-width:1\" fill=\"rgb(99,70,179)\" /><path fill-rule=\"evenodd\" fill-opacity=\"1\" d=\"M 650.0 490.0  A 35 35 0 0 0 650.0 420.0  A 35 35 0 0 0 650.0 490.0 \" stroke-linecap=\"round\" style=\"stroke:rgb(245,206,162);stroke-width:1\" fill=\"rgb(245,206,162)\" /><path fill-rule=\"evenodd\" fill-opacity=\"1\" d=\"M 350.0 490.0  A 35 35 0 0 0 350.0 420.0  A 35 35 0 0 0 350.0 490.0 \" stroke-linecap=\"round\" style=\"stroke:rgb(245,206,162);stroke-width:1\" fill=\"rgb(245,206,162)\" /><path fill-rule=\"evenodd\" fill-opacity=\"1\" d=\"M 500.0 550.0  A 150 150 0 0 0 500.0 250.0  A 150 150 0 0 0 500.0 550.0 \" stroke-linecap=\"round\" style=\"stroke:rgb(245,206,162);stroke-width:1\" fill=\"rgb(245,206,162)\" /><path fill-rule=\"evenodd\" fill-opacity=\"1\" d=\"M 365.0 625.0  L 635.0 625.0  L 635.0 355.0  L 365.0 355.0  L 365.0 625.0 \" stroke-linecap=\"round\" style=\"stroke:rgb(245,206,162);stroke-width:1\" fill=\"rgb(245,206,162)\" /><path fill-rule=\"evenodd\" fill-opacity=\"1\" d=\"M 400.0 620.0  L 600.0 620.0  L 600.0 770.0  L 400.0 770.0  L 400.0 620.0 \" stroke-linecap=\"round\" style=\"stroke:rgb(219,184,145);stroke-width:1\" fill=\"rgb(219,184,145)\" /><path fill-rule=\"evenodd\" fill-opacity=\"1\" d=\"M 400.0 425.0  A 55 55 0 0 0 400.0 315.0  A 55 55 0 0 0 400.0 425.0 \" stroke-linecap=\"round\" style=\"stroke:rgb(255,255,255);stroke-width:1\" fill=\"rgb(255,255,255)\" /><path fill-rule=\"evenodd\" fill-opacity=\"1\" d=\"M 600.0 425.0  A 55 55 0 0 0 600.0 315.0  A 55 55 0 0 0 600.0 425.0 \" stroke-linecap=\"round\" style=\"stroke:rgb(255,255,255);stroke-width:1\" fill=\"rgb(255,255,255)\" /><path fill-rule=\"evenodd\" fill-opacity=\"1\" d=\"M 400.0 400.0  A 35 35 0 0 0 400.0 330.0  A 35 35 0 0 0 400.0 400.0 \" stroke-linecap=\"round\" style=\"stroke:rgb(0,0,0);stroke-width:1\" fill=\"rgb(0,0,0)\" /><path fill-rule=\"evenodd\" fill-opacity=\"1\" d=\"M 600.0 400.0  A 35 35 0 0 0 600.0 330.0  A 35 35 0 0 0 600.0 400.0 \" stroke-linecap=\"round\" style=\"stroke:rgb(0,0,0);stroke-width:1\" fill=\"rgb(0,0,0)\" /><path fill-rule=\"evenodd\" fill-opacity=\"1\" d=\"M 488.0 460.0  L 513.0 460.0  L 513.0 515.0  L 488.0 515.0  L 488.0 460.0 \" stroke-linecap=\"round\" style=\"stroke:rgb(219,184,145);stroke-width:1\" fill=\"rgb(219,184,145)\" /><path fill-rule=\"evenodd\" fill-opacity=\"1\" d=\"M 500.0 620.0  A 30 30 0 0 0 500.0 560.0  A 30 30 0 0 0 500.0 620.0 \" stroke-linecap=\"round\" style=\"stroke:rgb(128,65,52);stroke-width:1\" fill=\"rgb(128,65,52)\" /><path fill-rule=\"evenodd\" fill-opacity=\"1\" d=\"M 500.0 650.0  A 30 30 0 0 0 500.0 590.0  A 30 30 0 0 0 500.0 650.0 \" stroke-linecap=\"round\" style=\"stroke:rgb(128,65,52);stroke-width:1\" fill=\"rgb(128,65,52)\" /><line x1=\"350.0\" y1=\"300.0\" x2=\"371.213\" y2=\"278.787\" stroke-linecap=\"round\" style=\"stroke:rgb(99,70,179);stroke-width:1\" /><line x1=\"371.213\" y1=\"278.787\" x2=\"446.213\" y2=\"278.787\" stroke-linecap=\"round\" style=\"stroke:rgb(99,70,179);stroke-width:1\" /><line x1=\"585.0\" y1=\"300.0\" x2=\"660.0\" y2=\"300.0\" stroke-linecap=\"round\" style=\"stroke:rgb(99,70,179);stroke-width:1\" /><line x1=\"660.0\" y1=\"300.0\" x2=\"681.213\" y2=\"321.213\" stroke-linecap=\"round\" style=\"stroke:rgb(99,70,179);stroke-width:1\" />\n",
              "        \n",
              "        \n",
              "        <g id=\"classic\" visibility=\"hidden\" transform=\"rotate(-90.0,500.0,500.0) translate(500.0, 500.0)\">\n",
              "<polygon points=\"-5,-4.5 0,-2.5 5,-4.5 0,4.5\" transform=\"skewX(0) scale(1,1)\" style=\"stroke:black;fill:black;stroke-width:1\" />\n",
              "</g><g id=\"classic\" visibility=\"hidden\" transform=\"rotate(-90.0,499.0,724.0) translate(499.0, 724.0)\">\n",
              "<polygon points=\"-5,-4.5 0,-2.5 5,-4.5 0,4.5\" transform=\"skewX(0) scale(1,1)\" style=\"stroke:rgb(99,70,179);fill:rgb(99,70,179);stroke-width:1\" />\n",
              "</g><g id=\"classic\" visibility=\"hidden\" transform=\"rotate(-90.0,365.0,625.0) translate(365.0, 625.0)\">\n",
              "<polygon points=\"-5,-4.5 0,-2.5 5,-4.5 0,4.5\" transform=\"skewX(0) scale(1,1)\" style=\"stroke:rgb(245,206,162);fill:rgb(245,206,162);stroke-width:1\" />\n",
              "</g><g id=\"classic\" visibility=\"hidden\" transform=\"rotate(-90,400.0,620.0) translate(400.0, 620.0)\">\n",
              "<polygon points=\"-5,-4.5 0,-2.5 5,-4.5 0,4.5\" transform=\"skewX(0) scale(1,1)\" style=\"stroke:rgb(219,184,145);fill:rgb(219,184,145);stroke-width:1\" />\n",
              "</g><g id=\"classic\" visibility=\"hidden\" transform=\"rotate(-90,500.0,500.0) translate(500.0, 500.0)\">\n",
              "<polygon points=\"-5,-4.5 0,-2.5 5,-4.5 0,4.5\" transform=\"skewX(0) scale(1,1)\" style=\"stroke:black;fill:black;stroke-width:1\" />\n",
              "</g><g id=\"classic\" visibility=\"hidden\" transform=\"rotate(-90.0,600.0,425.0) translate(600.0, 425.0)\">\n",
              "<polygon points=\"-5,-4.5 0,-2.5 5,-4.5 0,4.5\" transform=\"skewX(0) scale(1,1)\" style=\"stroke:rgb(255,255,255);fill:rgb(255,255,255);stroke-width:1\" />\n",
              "</g><g id=\"classic\" visibility=\"hidden\" transform=\"rotate(-90.0,600.0,400.0) translate(600.0, 400.0)\">\n",
              "<polygon points=\"-5,-4.5 0,-2.5 5,-4.5 0,4.5\" transform=\"skewX(0) scale(1,1)\" style=\"stroke:rgb(0,0,0);fill:rgb(0,0,0);stroke-width:1\" />\n",
              "</g><g id=\"classic\" visibility=\"hidden\" transform=\"rotate(-90,488.0,460.0) translate(488.0, 460.0)\">\n",
              "<polygon points=\"-5,-4.5 0,-2.5 5,-4.5 0,4.5\" transform=\"skewX(0) scale(1,1)\" style=\"stroke:rgb(219,184,145);fill:rgb(219,184,145);stroke-width:1\" />\n",
              "</g><g id=\"classic\" visibility=\"visible\" transform=\"rotate(-90.0,500.0,650.0) translate(500.0, 650.0)\">\n",
              "<polygon points=\"-5,-4.5 0,-2.5 5,-4.5 0,4.5\" transform=\"skewX(0) scale(1,1)\" style=\"stroke:rgb(128,65,52);fill:rgb(128,65,52);stroke-width:1\" />\n",
              "</g><g id=\"classic\" visibility=\"hidden\" transform=\"rotate(-90,500.0,500.0) translate(500.0, 500.0)\">\n",
              "<polygon points=\"-5,-4.5 0,-2.5 5,-4.5 0,4.5\" transform=\"skewX(0) scale(1,1)\" style=\"stroke:rgb(207,150,114);fill:rgb(207,150,114);stroke-width:1\" />\n",
              "</g><g id=\"classic\" visibility=\"visible\" transform=\"rotate(-45,681.213,321.213) translate(681.213, 321.213)\">\n",
              "<polygon points=\"-5,-4.5 0,-2.5 5,-4.5 0,4.5\" transform=\"skewX(0) scale(1,1)\" style=\"stroke:rgb(99,70,179);fill:rgb(99,70,179);stroke-width:1\" />\n",
              "</g>\n",
              "      </svg>\n",
              "    "
            ]
          },
          "metadata": {}
        }
      ]
    },
    {
      "cell_type": "code",
      "execution_count": 28,
      "metadata": {
        "id": "DBCwgrcPowOf"
      },
      "outputs": [],
      "source": [
        "#saving the portrait\n",
        "screen_obj = Screen()\n",
        "#save screen as svg\n",
        "screen_obj.saveSVG('Gen_portrait_2.svg', False)"
      ]
    },
    {
      "cell_type": "code",
      "source": [
        "#color palette 3\n",
        "hair.color((99, 70, 179))\n",
        "head.color((245, 223, 201))\n",
        "blush.color((186, 24, 100))\n",
        "neck.color((222, 202, 182))\n",
        "nose.color((222, 202, 182))\n",
        "mouth.color((138, 37, 37))\n",
        "\n",
        "draw_hair(2)\n",
        "draw_head(3) \n",
        "draw_eyes(1)\n",
        "draw_nose(3)\n",
        "draw_mouth(1)\n",
        "\n",
        "\n",
        "home()"
      ],
      "metadata": {
        "colab": {
          "base_uri": "https://localhost:8080/",
          "height": 1000
        },
        "id": "66_fpYHTu1IJ",
        "outputId": "095b0aa9-6598-40ae-8f9e-ea6bba857c3f"
      },
      "execution_count": 31,
      "outputs": [
        {
          "output_type": "display_data",
          "data": {
            "text/plain": [
              "<IPython.core.display.HTML object>"
            ],
            "text/html": [
              "\n",
              "      <svg width=\"1000\" height=\"1000\">  \n",
              "        <rect width=\"100%\" height=\"100%\" style=\"fill:white;stroke:;stroke-width:1\"/>\n",
              "        \n",
              "        \n",
              "        <line x1=\"500.0\" y1=\"500.0\" x2=\"500.0\" y2=\"500.0\" stroke-linecap=\"round\" style=\"stroke:black;stroke-width:1\" /><line x1=\"500.0\" y1=\"500.0\" x2=\"500.0\" y2=\"500.0\" stroke-linecap=\"round\" style=\"stroke:black;stroke-width:1\" /><path fill-rule=\"evenodd\" fill-opacity=\"1\" d=\"M 150.0 350.0  L 850.0 350.0  L 283.688 761.45  L 500.0 95.71  L 716.312 761.45  L 150.0 350.0  L 850.0 350.0 \" stroke-linecap=\"round\" style=\"stroke:rgb(99,70,179);stroke-width:1\" fill=\"rgb(99,70,179)\" /><path fill-rule=\"evenodd\" fill-opacity=\"1\" d=\"M 380.0 690.0  L 625.0 690.0  L 747.5 477.824  L 625.0 265.648  L 380.0 265.648  L 257.5 477.824  L 380.0 690.0 \" stroke-linecap=\"round\" style=\"stroke:rgb(245,223,201);stroke-width:1\" fill=\"rgb(245,223,201)\" /><path fill-rule=\"evenodd\" fill-opacity=\"1\" d=\"M 405.0 690.0  L 585.0 690.0  L 585.0 890.0  L 405.0 890.0  L 405.0 690.0 \" stroke-linecap=\"round\" style=\"stroke:rgb(222,202,182);stroke-width:1\" fill=\"rgb(222,202,182)\" /><path fill-rule=\"evenodd\" fill-opacity=\"1\" d=\"M 350.0 500.0  L 425.0 500.0  L 364.324 544.084  L 387.5 472.755  L 410.676 544.084  L 350.0 500.0  L 425.0 500.0 \" stroke-linecap=\"round\" style=\"stroke:rgb(186,24,100);stroke-width:1\" fill=\"rgb(186,24,100)\" /><path fill-rule=\"evenodd\" fill-opacity=\"1\" d=\"M 650.0 500.0  L 589.324 544.084  L 612.5 472.755  L 635.676 544.084  L 575.0 500.0  L 650.0 500.0  L 589.324 544.084 \" stroke-linecap=\"round\" style=\"stroke:rgb(186,24,100);stroke-width:1\" fill=\"rgb(186,24,100)\" /><path fill-rule=\"evenodd\" fill-opacity=\"1\" d=\"M 420.0 500.0  A 45 45 0 0 0 420.0 410.0  A 45 45 0 0 0 420.0 500.0 \" stroke-linecap=\"round\" style=\"stroke:rgb(255,255,255);stroke-width:1\" fill=\"rgb(255,255,255)\" /><path fill-rule=\"evenodd\" fill-opacity=\"1\" d=\"M 580.0 500.0  A 45 45 0 0 0 580.0 410.0  A 45 45 0 0 0 580.0 500.0 \" stroke-linecap=\"round\" style=\"stroke:rgb(255,255,255);stroke-width:1\" fill=\"rgb(255,255,255)\" /><path fill-rule=\"evenodd\" fill-opacity=\"1\" d=\"M 420.0 500.0  A 30 30 0 0 0 420.0 440.0  A 30 30 0 0 0 420.0 500.0 \" stroke-linecap=\"round\" style=\"stroke:rgb(0,0,0);stroke-width:1\" fill=\"rgb(0,0,0)\" /><path fill-rule=\"evenodd\" fill-opacity=\"1\" d=\"M 580.0 500.0  A 30 30 0 0 0 580.0 440.0  A 30 30 0 0 0 580.0 500.0 \" stroke-linecap=\"round\" style=\"stroke:rgb(0,0,0);stroke-width:1\" fill=\"rgb(0,0,0)\" /><path fill-rule=\"evenodd\" fill-opacity=\"1\" d=\"M 500.0 500.0  A 40 40 0 0 0 500.0 420.0  A 40 40 0 0 0 500.0 500.0 \" stroke-linecap=\"round\" style=\"stroke:rgb(222,202,182);stroke-width:1\" fill=\"rgb(222,202,182)\" /><path fill-rule=\"evenodd\" fill-opacity=\"1\" d=\"M 500.0 700.0  A 50 50 0 0 0 500.0 600.0  A 50 50 0 0 0 500.0 700.0 \" stroke-linecap=\"round\" style=\"stroke:rgb(138,37,37);stroke-width:1\" fill=\"rgb(138,37,37)\" /><path fill-rule=\"evenodd\" fill-opacity=\"1\" d=\"M 530.0 405.0  L 630.0 405.0  L 630.0 385.0  L 530.0 385.0  L 530.0 405.0 \" stroke-linecap=\"round\" style=\"stroke:rgb(227,90,36);stroke-width:1\" fill=\"rgb(227,90,36)\" /><path fill-rule=\"evenodd\" fill-opacity=\"1\" d=\"M 370.0 405.0  L 470.0 405.0  L 470.0 385.0  L 370.0 385.0  L 370.0 405.0 \" stroke-linecap=\"round\" style=\"stroke:rgb(227,90,36);stroke-width:1\" fill=\"rgb(227,90,36)\" />\n",
              "        \n",
              "        \n",
              "        <g id=\"classic\" visibility=\"hidden\" transform=\"rotate(-90.0,500.0,500.0) translate(500.0, 500.0)\">\n",
              "<polygon points=\"-5,-4.5 0,-2.5 5,-4.5 0,4.5\" transform=\"skewX(0) scale(1,1)\" style=\"stroke:black;fill:black;stroke-width:1\" />\n",
              "</g><g id=\"classic\" visibility=\"hidden\" transform=\"rotate(54,850.0,350.0) translate(850.0, 350.0)\">\n",
              "<polygon points=\"-5,-4.5 0,-2.5 5,-4.5 0,4.5\" transform=\"skewX(0) scale(1,1)\" style=\"stroke:rgb(99,70,179);fill:rgb(99,70,179);stroke-width:1\" />\n",
              "</g><g id=\"classic\" visibility=\"hidden\" transform=\"rotate(-90.0,380.0,690.0) translate(380.0, 690.0)\">\n",
              "<polygon points=\"-5,-4.5 0,-2.5 5,-4.5 0,4.5\" transform=\"skewX(0) scale(1,1)\" style=\"stroke:rgb(245,223,201);fill:rgb(245,223,201);stroke-width:1\" />\n",
              "</g><g id=\"classic\" visibility=\"hidden\" transform=\"rotate(-90,405.0,690.0) translate(405.0, 690.0)\">\n",
              "<polygon points=\"-5,-4.5 0,-2.5 5,-4.5 0,4.5\" transform=\"skewX(0) scale(1,1)\" style=\"stroke:rgb(222,202,182);fill:rgb(222,202,182);stroke-width:1\" />\n",
              "</g><g id=\"classic\" visibility=\"hidden\" transform=\"rotate(198,589.324,544.084) translate(589.324, 544.084)\">\n",
              "<polygon points=\"-5,-4.5 0,-2.5 5,-4.5 0,4.5\" transform=\"skewX(0) scale(1,1)\" style=\"stroke:rgb(186,24,100);fill:rgb(186,24,100);stroke-width:1\" />\n",
              "</g><g id=\"classic\" visibility=\"hidden\" transform=\"rotate(-90.0,580.0,500.0) translate(580.0, 500.0)\">\n",
              "<polygon points=\"-5,-4.5 0,-2.5 5,-4.5 0,4.5\" transform=\"skewX(0) scale(1,1)\" style=\"stroke:rgb(255,255,255);fill:rgb(255,255,255);stroke-width:1\" />\n",
              "</g><g id=\"classic\" visibility=\"hidden\" transform=\"rotate(-90.0,580.0,500.0) translate(580.0, 500.0)\">\n",
              "<polygon points=\"-5,-4.5 0,-2.5 5,-4.5 0,4.5\" transform=\"skewX(0) scale(1,1)\" style=\"stroke:rgb(0,0,0);fill:rgb(0,0,0);stroke-width:1\" />\n",
              "</g><g id=\"classic\" visibility=\"hidden\" transform=\"rotate(-90.0,500.0,500.0) translate(500.0, 500.0)\">\n",
              "<polygon points=\"-5,-4.5 0,-2.5 5,-4.5 0,4.5\" transform=\"skewX(0) scale(1,1)\" style=\"stroke:rgb(222,202,182);fill:rgb(222,202,182);stroke-width:1\" />\n",
              "</g><g id=\"classic\" visibility=\"visible\" transform=\"rotate(-90.0,500.0,700.0) translate(500.0, 700.0)\">\n",
              "<polygon points=\"-5,-4.5 0,-2.5 5,-4.5 0,4.5\" transform=\"skewX(0) scale(1,1)\" style=\"stroke:rgb(138,37,37);fill:rgb(138,37,37);stroke-width:1\" />\n",
              "</g><g id=\"classic\" visibility=\"hidden\" transform=\"rotate(-90,500.0,500.0) translate(500.0, 500.0)\">\n",
              "<polygon points=\"-5,-4.5 0,-2.5 5,-4.5 0,4.5\" transform=\"skewX(0) scale(1,1)\" style=\"stroke:rgb(207,150,114);fill:rgb(207,150,114);stroke-width:1\" />\n",
              "</g><g id=\"classic\" visibility=\"hidden\" transform=\"rotate(-90,370.0,405.0) translate(370.0, 405.0)\">\n",
              "<polygon points=\"-5,-4.5 0,-2.5 5,-4.5 0,4.5\" transform=\"skewX(0) scale(1,1)\" style=\"stroke:rgb(227,90,36);fill:rgb(227,90,36);stroke-width:1\" />\n",
              "</g>\n",
              "      </svg>\n",
              "    "
            ]
          },
          "metadata": {}
        }
      ]
    },
    {
      "cell_type": "code",
      "execution_count": 32,
      "metadata": {
        "id": "1TIUoFqDo3F9"
      },
      "outputs": [],
      "source": [
        "#saving the portrait\n",
        "screen_obj = Screen()\n",
        "#save screen as svg\n",
        "screen_obj.saveSVG('Gen_portrait_3.svg', False)"
      ]
    },
    {
      "cell_type": "markdown",
      "source": [
        "**Original portrait code**\n",
        "\n",
        "below is each set of code used to create the base portraits. Each is started by a new download of turtle because they were originally created in different colab notebooks."
      ],
      "metadata": {
        "id": "wUp1iD7eyx7A"
      }
    },
    {
      "cell_type": "markdown",
      "source": [
        "# Portrait 1"
      ],
      "metadata": {
        "id": "sFh2GoJyzXJy"
      }
    },
    {
      "cell_type": "code",
      "source": [
        "#uploading turtle program\n",
        "!pip install ColabTurtlePlus"
      ],
      "metadata": {
        "colab": {
          "base_uri": "https://localhost:8080/"
        },
        "outputId": "2dd9a83a-2562-4a25-9e94-40d9314a5d64",
        "id": "vzScKpCizT2S"
      },
      "execution_count": null,
      "outputs": [
        {
          "output_type": "stream",
          "name": "stdout",
          "text": [
            "Looking in indexes: https://pypi.org/simple, https://us-python.pkg.dev/colab-wheels/public/simple/\n",
            "Collecting ColabTurtlePlus\n",
            "  Downloading ColabTurtlePlus-2.0.1-py3-none-any.whl (31 kB)\n",
            "Installing collected packages: ColabTurtlePlus\n",
            "Successfully installed ColabTurtlePlus-2.0.1\n"
          ]
        }
      ]
    },
    {
      "cell_type": "code",
      "source": [
        "#importing turtle plus and setting up basic commands and variables\n",
        "from ColabTurtlePlus.Turtle import *\n",
        "\n",
        "clearscreen()\n",
        "setup(1000,1000)\n",
        "\n",
        "#parts of the portrait 1\n",
        "hair = Turtle()\n",
        "hair.color((235, 64, 52))\n",
        "\n",
        "head = Turtle()\n",
        "head.color((207, 150, 114))\n",
        "\n",
        "neck = Turtle()\n",
        "neck.color((214, 158, 122))\n",
        "\n",
        "blush = Turtle()\n",
        "blush.color((214, 150, 188))\n",
        "\n",
        "weye = Turtle()\n",
        "weye.color((255,255,255))\n",
        "\n",
        "pupil = Turtle()\n",
        "pupil.color((0,0,0))\n",
        "\n",
        "nose = Turtle()\n",
        "nose.color((138, 101, 77))\n",
        "\n",
        "mouth = Turtle()\n",
        "mouth.color((179, 21, 37))\n",
        "\n",
        "\n",
        "\n",
        "\n",
        "#square\n",
        "def draw_square(Turtle_obj, side_length):\n",
        " for i in range(4):\n",
        "  Turtle_obj.forward(side_length)\n",
        "  Turtle_obj.left(90)\n",
        "\n",
        "#triangle\n",
        "def draw_triangle(Turtle_obj,side_length):\n",
        "  for side in range(3):\n",
        "    Turtle_obj.fd(side_length)\n",
        "    Turtle_obj.lt(360/3)\n",
        "\n",
        "#polygon\n",
        "def draw_polygon(Turtle_obj, side_number, side_length):\n",
        "  for side in range(side_number):\n",
        "    Turtle_obj.fd(side_length)\n",
        "    Turtle_obj.lt(360/side_number)\n",
        "\n",
        "#rectangle\n",
        "def draw_rectangle(Turtle_obj, side_length1,side_length2):\n",
        " for i in range(2):\n",
        "  Turtle_obj.forward(side_length1)\n",
        "  Turtle_obj.left(90)\n",
        "  Turtle_obj.forward(side_length2)\n",
        "  Turtle_obj.left(90)\n",
        "\n",
        "#using tutrle circle function\n",
        "#Turtle.circle(150)\n",
        "\n"
      ],
      "metadata": {
        "colab": {
          "base_uri": "https://localhost:8080/",
          "height": 1000
        },
        "outputId": "d96e4a6d-d636-4419-aa91-74b730a0d0b2",
        "id": "8H9LetZxzT2U"
      },
      "execution_count": null,
      "outputs": [
        {
          "output_type": "stream",
          "name": "stdout",
          "text": [
            "Put clearscreen() as the first line in a cell (after the import command) to re-run turtle commands in the cell\n"
          ]
        },
        {
          "output_type": "display_data",
          "data": {
            "text/plain": [
              "<IPython.core.display.HTML object>"
            ],
            "text/html": [
              "\n",
              "      <svg width=\"1000\" height=\"1000\">  \n",
              "        <rect width=\"100%\" height=\"100%\" style=\"fill:white;stroke:;stroke-width:1\"/>\n",
              "        \n",
              "        \n",
              "        \n",
              "        \n",
              "        \n",
              "        <g id=\"classic\" visibility=\"visible\" transform=\"rotate(-90,500.0,500.0) translate(500.0, 500.0)\">\n",
              "<polygon points=\"-5,-4.5 0,-2.5 5,-4.5 0,4.5\" transform=\"skewX(0) scale(1,1)\" style=\"stroke:rgb(235,64,52);fill:rgb(235,64,52);stroke-width:1\" />\n",
              "</g><g id=\"classic\" visibility=\"visible\" transform=\"rotate(-90,500.0,500.0) translate(500.0, 500.0)\">\n",
              "<polygon points=\"-5,-4.5 0,-2.5 5,-4.5 0,4.5\" transform=\"skewX(0) scale(1,1)\" style=\"stroke:rgb(207,150,114);fill:rgb(207,150,114);stroke-width:1\" />\n",
              "</g><g id=\"classic\" visibility=\"visible\" transform=\"rotate(-90,500.0,500.0) translate(500.0, 500.0)\">\n",
              "<polygon points=\"-5,-4.5 0,-2.5 5,-4.5 0,4.5\" transform=\"skewX(0) scale(1,1)\" style=\"stroke:rgb(214,158,122);fill:rgb(214,158,122);stroke-width:1\" />\n",
              "</g><g id=\"classic\" visibility=\"visible\" transform=\"rotate(-90,500.0,500.0) translate(500.0, 500.0)\">\n",
              "<polygon points=\"-5,-4.5 0,-2.5 5,-4.5 0,4.5\" transform=\"skewX(0) scale(1,1)\" style=\"stroke:rgb(214,150,188);fill:rgb(214,150,188);stroke-width:1\" />\n",
              "</g><g id=\"classic\" visibility=\"visible\" transform=\"rotate(-90,500.0,500.0) translate(500.0, 500.0)\">\n",
              "<polygon points=\"-5,-4.5 0,-2.5 5,-4.5 0,4.5\" transform=\"skewX(0) scale(1,1)\" style=\"stroke:rgb(255,255,255);fill:rgb(255,255,255);stroke-width:1\" />\n",
              "</g><g id=\"classic\" visibility=\"visible\" transform=\"rotate(-90,500.0,500.0) translate(500.0, 500.0)\">\n",
              "<polygon points=\"-5,-4.5 0,-2.5 5,-4.5 0,4.5\" transform=\"skewX(0) scale(1,1)\" style=\"stroke:rgb(0,0,0);fill:rgb(0,0,0);stroke-width:1\" />\n",
              "</g><g id=\"classic\" visibility=\"visible\" transform=\"rotate(-90,500.0,500.0) translate(500.0, 500.0)\">\n",
              "<polygon points=\"-5,-4.5 0,-2.5 5,-4.5 0,4.5\" transform=\"skewX(0) scale(1,1)\" style=\"stroke:rgb(138,101,77);fill:rgb(138,101,77);stroke-width:1\" />\n",
              "</g><g id=\"classic\" visibility=\"visible\" transform=\"rotate(-90,500.0,500.0) translate(500.0, 500.0)\">\n",
              "<polygon points=\"-5,-4.5 0,-2.5 5,-4.5 0,4.5\" transform=\"skewX(0) scale(1,1)\" style=\"stroke:rgb(179,21,37);fill:rgb(179,21,37);stroke-width:1\" />\n",
              "</g>\n",
              "      </svg>\n",
              "    "
            ]
          },
          "metadata": {}
        }
      ]
    },
    {
      "cell_type": "code",
      "source": [
        "#drawing the hair\n",
        "hair.jumpto(-97,-0)\n",
        "hair.begin_fill()\n",
        "draw_polygon(hair,6,200)\n",
        "hair.end_fill()\n",
        "\n",
        "hair.jumpto(-192,-224)\n",
        "hair.begin_fill()\n",
        "draw_polygon(hair,6,200)\n",
        "hair.end_fill()\n",
        "\n",
        "hair.jumpto(-1,-224)\n",
        "hair.begin_fill()\n",
        "draw_polygon(hair,6,200)\n",
        "hair.end_fill()\n",
        "\n",
        "#ears\n",
        "head.jumpto(-192,-50)\n",
        "head.begin_fill()\n",
        "head.circle(61)\n",
        "head.end_fill()\n",
        "\n",
        "head.jumpto(192,-50)\n",
        "head.begin_fill()\n",
        "head.circle(61)\n",
        "head.end_fill()\n",
        "\n"
      ],
      "metadata": {
        "colab": {
          "base_uri": "https://localhost:8080/",
          "height": 1000
        },
        "id": "ApPZyomjufuH",
        "outputId": "a6e3a2ff-38b4-4f51-c62d-cb9cbd839f3e"
      },
      "execution_count": null,
      "outputs": [
        {
          "output_type": "display_data",
          "data": {
            "text/plain": [
              "<IPython.core.display.HTML object>"
            ],
            "text/html": [
              "\n",
              "      <svg width=\"1000\" height=\"1000\">  \n",
              "        <rect width=\"100%\" height=\"100%\" style=\"fill:white;stroke:;stroke-width:1\"/>\n",
              "        \n",
              "        \n",
              "        <path fill-rule=\"evenodd\" fill-opacity=\"1\" d=\"M 403.0 500.0  L 603.0 500.0  L 703.0 326.795  L 603.0 153.59  L 403.0 153.59  L 303.0 326.795  L 403.0 500.0 \" stroke-linecap=\"round\" style=\"stroke:rgb(235,64,52);stroke-width:1\" fill=\"rgb(235,64,52)\" /><path fill-rule=\"evenodd\" fill-opacity=\"1\" d=\"M 308.0 724.0  L 508.0 724.0  L 608.0 550.795  L 508.0 377.59  L 308.0 377.59  L 208.0 550.795  L 308.0 724.0 \" stroke-linecap=\"round\" style=\"stroke:rgb(235,64,52);stroke-width:1\" fill=\"rgb(235,64,52)\" /><path fill-rule=\"evenodd\" fill-opacity=\"1\" d=\"M 499.0 724.0  L 699.0 724.0  L 799.0 550.795  L 699.0 377.59  L 499.0 377.59  L 399.0 550.795  L 499.0 724.0 \" stroke-linecap=\"round\" style=\"stroke:rgb(235,64,52);stroke-width:1\" fill=\"rgb(235,64,52)\" /><path fill-rule=\"evenodd\" fill-opacity=\"1\" d=\"M 308.0 550.0  A 61 61 0 0 0 308.0 428.0  A 61 61 0 0 0 308.0 550.0 \" stroke-linecap=\"round\" style=\"stroke:rgb(207,150,114);stroke-width:1\" fill=\"rgb(207,150,114)\" /><path fill-rule=\"evenodd\" fill-opacity=\"1\" d=\"M 692.0 550.0  A 61 61 0 0 0 692.0 428.0  A 61 61 0 0 0 692.0 550.0 \" stroke-linecap=\"round\" style=\"stroke:rgb(207,150,114);stroke-width:1\" fill=\"rgb(207,150,114)\" />\n",
              "        \n",
              "        \n",
              "        <g id=\"classic\" visibility=\"visible\" transform=\"rotate(-90.0,499.0,724.0) translate(499.0, 724.0)\">\n",
              "<polygon points=\"-5,-4.5 0,-2.5 5,-4.5 0,4.5\" transform=\"skewX(0) scale(1,1)\" style=\"stroke:rgb(235,64,52);fill:rgb(235,64,52);stroke-width:1\" />\n",
              "</g><g id=\"classic\" visibility=\"visible\" transform=\"rotate(-90.0,692.0,550.0) translate(692.0, 550.0)\">\n",
              "<polygon points=\"-5,-4.5 0,-2.5 5,-4.5 0,4.5\" transform=\"skewX(0) scale(1,1)\" style=\"stroke:rgb(207,150,114);fill:rgb(207,150,114);stroke-width:1\" />\n",
              "</g><g id=\"classic\" visibility=\"visible\" transform=\"rotate(-90,500.0,500.0) translate(500.0, 500.0)\">\n",
              "<polygon points=\"-5,-4.5 0,-2.5 5,-4.5 0,4.5\" transform=\"skewX(0) scale(1,1)\" style=\"stroke:rgb(214,158,122);fill:rgb(214,158,122);stroke-width:1\" />\n",
              "</g><g id=\"classic\" visibility=\"visible\" transform=\"rotate(-90,500.0,500.0) translate(500.0, 500.0)\">\n",
              "<polygon points=\"-5,-4.5 0,-2.5 5,-4.5 0,4.5\" transform=\"skewX(0) scale(1,1)\" style=\"stroke:rgb(214,150,188);fill:rgb(214,150,188);stroke-width:1\" />\n",
              "</g><g id=\"classic\" visibility=\"visible\" transform=\"rotate(-90,500.0,500.0) translate(500.0, 500.0)\">\n",
              "<polygon points=\"-5,-4.5 0,-2.5 5,-4.5 0,4.5\" transform=\"skewX(0) scale(1,1)\" style=\"stroke:rgb(255,255,255);fill:rgb(255,255,255);stroke-width:1\" />\n",
              "</g><g id=\"classic\" visibility=\"visible\" transform=\"rotate(-90,500.0,500.0) translate(500.0, 500.0)\">\n",
              "<polygon points=\"-5,-4.5 0,-2.5 5,-4.5 0,4.5\" transform=\"skewX(0) scale(1,1)\" style=\"stroke:rgb(0,0,0);fill:rgb(0,0,0);stroke-width:1\" />\n",
              "</g><g id=\"classic\" visibility=\"visible\" transform=\"rotate(-90,500.0,500.0) translate(500.0, 500.0)\">\n",
              "<polygon points=\"-5,-4.5 0,-2.5 5,-4.5 0,4.5\" transform=\"skewX(0) scale(1,1)\" style=\"stroke:rgb(138,101,77);fill:rgb(138,101,77);stroke-width:1\" />\n",
              "</g><g id=\"classic\" visibility=\"visible\" transform=\"rotate(-90,500.0,500.0) translate(500.0, 500.0)\">\n",
              "<polygon points=\"-5,-4.5 0,-2.5 5,-4.5 0,4.5\" transform=\"skewX(0) scale(1,1)\" style=\"stroke:rgb(179,21,37);fill:rgb(179,21,37);stroke-width:1\" />\n",
              "</g>\n",
              "      </svg>\n",
              "    "
            ]
          },
          "metadata": {}
        }
      ]
    },
    {
      "cell_type": "code",
      "source": [
        "#setting up the face base\n",
        "\n",
        "\n",
        "#def func():\n",
        "#neck\n",
        "neck.jumpto(-115,-420)\n",
        "neck.begin_fill()\n",
        "draw_rectangle(neck,230,200)\n",
        "neck.end_fill()\n",
        "\n",
        "#head\n",
        "head.jumpto(0,-250)\n",
        "head.begin_fill()\n",
        "head.circle(215)\n",
        "head.end_fill()\n",
        "\n",
        "\n",
        "#blush\n",
        "blush.jumpto(110,-110)\n",
        "blush.begin_fill()\n",
        "blush.circle(50)\n",
        "blush.end_fill()\n",
        "\n",
        "blush.jumpto(-110,-110)\n",
        "blush.begin_fill()\n",
        "blush.circle(50)\n",
        "blush.end_fill()\n",
        "\n",
        "\n"
      ],
      "metadata": {
        "colab": {
          "base_uri": "https://localhost:8080/",
          "height": 1000
        },
        "id": "I8svVB-4rmNV",
        "outputId": "6af0de18-0cf8-4047-e144-ac3084659f91"
      },
      "execution_count": null,
      "outputs": [
        {
          "output_type": "display_data",
          "data": {
            "text/plain": [
              "<IPython.core.display.HTML object>"
            ],
            "text/html": [
              "\n",
              "      <svg width=\"1000\" height=\"1000\">  \n",
              "        <rect width=\"100%\" height=\"100%\" style=\"fill:white;stroke:;stroke-width:1\"/>\n",
              "        \n",
              "        \n",
              "        <path fill-rule=\"evenodd\" fill-opacity=\"1\" d=\"M 403.0 500.0  L 603.0 500.0  L 703.0 326.795  L 603.0 153.59  L 403.0 153.59  L 303.0 326.795  L 403.0 500.0 \" stroke-linecap=\"round\" style=\"stroke:rgb(235,64,52);stroke-width:1\" fill=\"rgb(235,64,52)\" /><path fill-rule=\"evenodd\" fill-opacity=\"1\" d=\"M 308.0 724.0  L 508.0 724.0  L 608.0 550.795  L 508.0 377.59  L 308.0 377.59  L 208.0 550.795  L 308.0 724.0 \" stroke-linecap=\"round\" style=\"stroke:rgb(235,64,52);stroke-width:1\" fill=\"rgb(235,64,52)\" /><path fill-rule=\"evenodd\" fill-opacity=\"1\" d=\"M 499.0 724.0  L 699.0 724.0  L 799.0 550.795  L 699.0 377.59  L 499.0 377.59  L 399.0 550.795  L 499.0 724.0 \" stroke-linecap=\"round\" style=\"stroke:rgb(235,64,52);stroke-width:1\" fill=\"rgb(235,64,52)\" /><path fill-rule=\"evenodd\" fill-opacity=\"1\" d=\"M 308.0 550.0  A 61 61 0 0 0 308.0 428.0  A 61 61 0 0 0 308.0 550.0 \" stroke-linecap=\"round\" style=\"stroke:rgb(207,150,114);stroke-width:1\" fill=\"rgb(207,150,114)\" /><path fill-rule=\"evenodd\" fill-opacity=\"1\" d=\"M 692.0 550.0  A 61 61 0 0 0 692.0 428.0  A 61 61 0 0 0 692.0 550.0 \" stroke-linecap=\"round\" style=\"stroke:rgb(207,150,114);stroke-width:1\" fill=\"rgb(207,150,114)\" /><path fill-rule=\"evenodd\" fill-opacity=\"1\" d=\"M 500.0 750.0  A 215 215 0 0 0 500.0 320.0  A 215 215 0 0 0 500.0 750.0 \" stroke-linecap=\"round\" style=\"stroke:rgb(207,150,114);stroke-width:1\" fill=\"rgb(207,150,114)\" /><path fill-rule=\"evenodd\" fill-opacity=\"1\" d=\"M 385.0 920.0  L 615.0 920.0  L 615.0 720.0  L 385.0 720.0  L 385.0 920.0 \" stroke-linecap=\"round\" style=\"stroke:rgb(214,158,122);stroke-width:1\" fill=\"rgb(214,158,122)\" /><path fill-rule=\"evenodd\" fill-opacity=\"1\" d=\"M 610.0 610.0  A 50 50 0 0 0 610.0 510.0  A 50 50 0 0 0 610.0 610.0 \" stroke-linecap=\"round\" style=\"stroke:rgb(214,150,188);stroke-width:1\" fill=\"rgb(214,150,188)\" /><path fill-rule=\"evenodd\" fill-opacity=\"1\" d=\"M 390.0 610.0  A 50 50 0 0 0 390.0 510.0  A 50 50 0 0 0 390.0 610.0 \" stroke-linecap=\"round\" style=\"stroke:rgb(214,150,188);stroke-width:1\" fill=\"rgb(214,150,188)\" />\n",
              "        \n",
              "        \n",
              "        <g id=\"classic\" visibility=\"visible\" transform=\"rotate(-90.0,499.0,724.0) translate(499.0, 724.0)\">\n",
              "<polygon points=\"-5,-4.5 0,-2.5 5,-4.5 0,4.5\" transform=\"skewX(0) scale(1,1)\" style=\"stroke:rgb(235,64,52);fill:rgb(235,64,52);stroke-width:1\" />\n",
              "</g><g id=\"classic\" visibility=\"visible\" transform=\"rotate(-90.0,500.0,750.0) translate(500.0, 750.0)\">\n",
              "<polygon points=\"-5,-4.5 0,-2.5 5,-4.5 0,4.5\" transform=\"skewX(0) scale(1,1)\" style=\"stroke:rgb(207,150,114);fill:rgb(207,150,114);stroke-width:1\" />\n",
              "</g><g id=\"classic\" visibility=\"visible\" transform=\"rotate(-90,385.0,920.0) translate(385.0, 920.0)\">\n",
              "<polygon points=\"-5,-4.5 0,-2.5 5,-4.5 0,4.5\" transform=\"skewX(0) scale(1,1)\" style=\"stroke:rgb(214,158,122);fill:rgb(214,158,122);stroke-width:1\" />\n",
              "</g><g id=\"classic\" visibility=\"visible\" transform=\"rotate(-90.0,390.0,610.0) translate(390.0, 610.0)\">\n",
              "<polygon points=\"-5,-4.5 0,-2.5 5,-4.5 0,4.5\" transform=\"skewX(0) scale(1,1)\" style=\"stroke:rgb(214,150,188);fill:rgb(214,150,188);stroke-width:1\" />\n",
              "</g><g id=\"classic\" visibility=\"visible\" transform=\"rotate(-90,500.0,500.0) translate(500.0, 500.0)\">\n",
              "<polygon points=\"-5,-4.5 0,-2.5 5,-4.5 0,4.5\" transform=\"skewX(0) scale(1,1)\" style=\"stroke:rgb(255,255,255);fill:rgb(255,255,255);stroke-width:1\" />\n",
              "</g><g id=\"classic\" visibility=\"visible\" transform=\"rotate(-90,500.0,500.0) translate(500.0, 500.0)\">\n",
              "<polygon points=\"-5,-4.5 0,-2.5 5,-4.5 0,4.5\" transform=\"skewX(0) scale(1,1)\" style=\"stroke:rgb(0,0,0);fill:rgb(0,0,0);stroke-width:1\" />\n",
              "</g><g id=\"classic\" visibility=\"visible\" transform=\"rotate(-90,500.0,500.0) translate(500.0, 500.0)\">\n",
              "<polygon points=\"-5,-4.5 0,-2.5 5,-4.5 0,4.5\" transform=\"skewX(0) scale(1,1)\" style=\"stroke:rgb(138,101,77);fill:rgb(138,101,77);stroke-width:1\" />\n",
              "</g><g id=\"classic\" visibility=\"visible\" transform=\"rotate(-90,500.0,500.0) translate(500.0, 500.0)\">\n",
              "<polygon points=\"-5,-4.5 0,-2.5 5,-4.5 0,4.5\" transform=\"skewX(0) scale(1,1)\" style=\"stroke:rgb(179,21,37);fill:rgb(179,21,37);stroke-width:1\" />\n",
              "</g>\n",
              "      </svg>\n",
              "    "
            ]
          },
          "metadata": {}
        }
      ]
    },
    {
      "cell_type": "code",
      "source": [
        "#features\n",
        "eyebrow = Turtle()\n",
        "eyebrow.color((227, 90, 36))\n",
        "\n",
        "#eye whites\n",
        "weye.jumpto(-80,0)\n",
        "weye.begin_fill()\n",
        "weye.circle(45)\n",
        "weye.end_fill()\n",
        "\n",
        "weye.jumpto(80,0)\n",
        "weye.begin_fill()\n",
        "weye.circle(45)\n",
        "weye.end_fill()\n",
        "\n",
        "#pupil\n",
        "pupil.jumpto(-80,0)\n",
        "pupil.begin_fill()\n",
        "pupil.circle(30)\n",
        "pupil.end_fill()\n",
        "\n",
        "pupil.jumpto(80,0)\n",
        "pupil.begin_fill()\n",
        "pupil.circle(30)\n",
        "pupil.end_fill()\n",
        "\n",
        "#eyebrows\n",
        "eyebrow.jumpto(30,95)\n",
        "eyebrow.begin_fill()\n",
        "draw_rectangle(eyebrow,100,20)\n",
        "eyebrow.end_fill()\n",
        "\n",
        "eyebrow.jumpto(-130,95)\n",
        "eyebrow.begin_fill()\n",
        "draw_rectangle(eyebrow,100,20)\n",
        "eyebrow.end_fill()"
      ],
      "metadata": {
        "colab": {
          "base_uri": "https://localhost:8080/",
          "height": 1000
        },
        "id": "mBqrj00xrGLy",
        "outputId": "e03e8f34-a872-415e-f8ec-6135c8fbbb57"
      },
      "execution_count": null,
      "outputs": [
        {
          "output_type": "display_data",
          "data": {
            "text/plain": [
              "<IPython.core.display.HTML object>"
            ],
            "text/html": [
              "\n",
              "      <svg width=\"1000\" height=\"1000\">  \n",
              "        <rect width=\"100%\" height=\"100%\" style=\"fill:white;stroke:;stroke-width:1\"/>\n",
              "        \n",
              "        \n",
              "        <path fill-rule=\"evenodd\" fill-opacity=\"1\" d=\"M 403.0 500.0  L 603.0 500.0  L 703.0 326.795  L 603.0 153.59  L 403.0 153.59  L 303.0 326.795  L 403.0 500.0 \" stroke-linecap=\"round\" style=\"stroke:rgb(235,64,52);stroke-width:1\" fill=\"rgb(235,64,52)\" /><path fill-rule=\"evenodd\" fill-opacity=\"1\" d=\"M 308.0 724.0  L 508.0 724.0  L 608.0 550.795  L 508.0 377.59  L 308.0 377.59  L 208.0 550.795  L 308.0 724.0 \" stroke-linecap=\"round\" style=\"stroke:rgb(235,64,52);stroke-width:1\" fill=\"rgb(235,64,52)\" /><path fill-rule=\"evenodd\" fill-opacity=\"1\" d=\"M 499.0 724.0  L 699.0 724.0  L 799.0 550.795  L 699.0 377.59  L 499.0 377.59  L 399.0 550.795  L 499.0 724.0 \" stroke-linecap=\"round\" style=\"stroke:rgb(235,64,52);stroke-width:1\" fill=\"rgb(235,64,52)\" /><path fill-rule=\"evenodd\" fill-opacity=\"1\" d=\"M 308.0 550.0  A 61 61 0 0 0 308.0 428.0  A 61 61 0 0 0 308.0 550.0 \" stroke-linecap=\"round\" style=\"stroke:rgb(207,150,114);stroke-width:1\" fill=\"rgb(207,150,114)\" /><path fill-rule=\"evenodd\" fill-opacity=\"1\" d=\"M 692.0 550.0  A 61 61 0 0 0 692.0 428.0  A 61 61 0 0 0 692.0 550.0 \" stroke-linecap=\"round\" style=\"stroke:rgb(207,150,114);stroke-width:1\" fill=\"rgb(207,150,114)\" /><path fill-rule=\"evenodd\" fill-opacity=\"1\" d=\"M 500.0 750.0  A 215 215 0 0 0 500.0 320.0  A 215 215 0 0 0 500.0 750.0 \" stroke-linecap=\"round\" style=\"stroke:rgb(207,150,114);stroke-width:1\" fill=\"rgb(207,150,114)\" /><path fill-rule=\"evenodd\" fill-opacity=\"1\" d=\"M 385.0 920.0  L 615.0 920.0  L 615.0 720.0  L 385.0 720.0  L 385.0 920.0 \" stroke-linecap=\"round\" style=\"stroke:rgb(214,158,122);stroke-width:1\" fill=\"rgb(214,158,122)\" /><path fill-rule=\"evenodd\" fill-opacity=\"1\" d=\"M 610.0 610.0  A 50 50 0 0 0 610.0 510.0  A 50 50 0 0 0 610.0 610.0 \" stroke-linecap=\"round\" style=\"stroke:rgb(214,150,188);stroke-width:1\" fill=\"rgb(214,150,188)\" /><path fill-rule=\"evenodd\" fill-opacity=\"1\" d=\"M 390.0 610.0  A 50 50 0 0 0 390.0 510.0  A 50 50 0 0 0 390.0 610.0 \" stroke-linecap=\"round\" style=\"stroke:rgb(214,150,188);stroke-width:1\" fill=\"rgb(214,150,188)\" /><path fill-rule=\"evenodd\" fill-opacity=\"1\" d=\"M 420.0 500.0  A 45 45 0 0 0 420.0 410.0  A 45 45 0 0 0 420.0 500.0 \" stroke-linecap=\"round\" style=\"stroke:rgb(255,255,255);stroke-width:1\" fill=\"rgb(255,255,255)\" /><path fill-rule=\"evenodd\" fill-opacity=\"1\" d=\"M 580.0 500.0  A 45 45 0 0 0 580.0 410.0  A 45 45 0 0 0 580.0 500.0 \" stroke-linecap=\"round\" style=\"stroke:rgb(255,255,255);stroke-width:1\" fill=\"rgb(255,255,255)\" /><path fill-rule=\"evenodd\" fill-opacity=\"1\" d=\"M 420.0 500.0  A 30 30 0 0 0 420.0 440.0  A 30 30 0 0 0 420.0 500.0 \" stroke-linecap=\"round\" style=\"stroke:rgb(0,0,0);stroke-width:1\" fill=\"rgb(0,0,0)\" /><path fill-rule=\"evenodd\" fill-opacity=\"1\" d=\"M 580.0 500.0  A 30 30 0 0 0 580.0 440.0  A 30 30 0 0 0 580.0 500.0 \" stroke-linecap=\"round\" style=\"stroke:rgb(0,0,0);stroke-width:1\" fill=\"rgb(0,0,0)\" /><path fill-rule=\"evenodd\" fill-opacity=\"1\" d=\"M 530.0 405.0  L 630.0 405.0  L 630.0 385.0  L 530.0 385.0  L 530.0 405.0 \" stroke-linecap=\"round\" style=\"stroke:rgb(227,90,36);stroke-width:1\" fill=\"rgb(227,90,36)\" /><path fill-rule=\"evenodd\" fill-opacity=\"1\" d=\"M 370.0 405.0  L 470.0 405.0  L 470.0 385.0  L 370.0 385.0  L 370.0 405.0 \" stroke-linecap=\"round\" style=\"stroke:rgb(227,90,36);stroke-width:1\" fill=\"rgb(227,90,36)\" />\n",
              "        \n",
              "        \n",
              "        <g id=\"classic\" visibility=\"visible\" transform=\"rotate(-90.0,499.0,724.0) translate(499.0, 724.0)\">\n",
              "<polygon points=\"-5,-4.5 0,-2.5 5,-4.5 0,4.5\" transform=\"skewX(0) scale(1,1)\" style=\"stroke:rgb(235,64,52);fill:rgb(235,64,52);stroke-width:1\" />\n",
              "</g><g id=\"classic\" visibility=\"visible\" transform=\"rotate(-90.0,500.0,750.0) translate(500.0, 750.0)\">\n",
              "<polygon points=\"-5,-4.5 0,-2.5 5,-4.5 0,4.5\" transform=\"skewX(0) scale(1,1)\" style=\"stroke:rgb(207,150,114);fill:rgb(207,150,114);stroke-width:1\" />\n",
              "</g><g id=\"classic\" visibility=\"visible\" transform=\"rotate(-90,385.0,920.0) translate(385.0, 920.0)\">\n",
              "<polygon points=\"-5,-4.5 0,-2.5 5,-4.5 0,4.5\" transform=\"skewX(0) scale(1,1)\" style=\"stroke:rgb(214,158,122);fill:rgb(214,158,122);stroke-width:1\" />\n",
              "</g><g id=\"classic\" visibility=\"visible\" transform=\"rotate(-90.0,390.0,610.0) translate(390.0, 610.0)\">\n",
              "<polygon points=\"-5,-4.5 0,-2.5 5,-4.5 0,4.5\" transform=\"skewX(0) scale(1,1)\" style=\"stroke:rgb(214,150,188);fill:rgb(214,150,188);stroke-width:1\" />\n",
              "</g><g id=\"classic\" visibility=\"visible\" transform=\"rotate(-90.0,580.0,500.0) translate(580.0, 500.0)\">\n",
              "<polygon points=\"-5,-4.5 0,-2.5 5,-4.5 0,4.5\" transform=\"skewX(0) scale(1,1)\" style=\"stroke:rgb(255,255,255);fill:rgb(255,255,255);stroke-width:1\" />\n",
              "</g><g id=\"classic\" visibility=\"visible\" transform=\"rotate(-90.0,580.0,500.0) translate(580.0, 500.0)\">\n",
              "<polygon points=\"-5,-4.5 0,-2.5 5,-4.5 0,4.5\" transform=\"skewX(0) scale(1,1)\" style=\"stroke:rgb(0,0,0);fill:rgb(0,0,0);stroke-width:1\" />\n",
              "</g><g id=\"classic\" visibility=\"visible\" transform=\"rotate(-90,500.0,500.0) translate(500.0, 500.0)\">\n",
              "<polygon points=\"-5,-4.5 0,-2.5 5,-4.5 0,4.5\" transform=\"skewX(0) scale(1,1)\" style=\"stroke:rgb(138,101,77);fill:rgb(138,101,77);stroke-width:1\" />\n",
              "</g><g id=\"classic\" visibility=\"visible\" transform=\"rotate(-90,500.0,500.0) translate(500.0, 500.0)\">\n",
              "<polygon points=\"-5,-4.5 0,-2.5 5,-4.5 0,4.5\" transform=\"skewX(0) scale(1,1)\" style=\"stroke:rgb(179,21,37);fill:rgb(179,21,37);stroke-width:1\" />\n",
              "</g><g id=\"classic\" visibility=\"visible\" transform=\"rotate(-90,370.0,405.0) translate(370.0, 405.0)\">\n",
              "<polygon points=\"-5,-4.5 0,-2.5 5,-4.5 0,4.5\" transform=\"skewX(0) scale(1,1)\" style=\"stroke:rgb(227,90,36);fill:rgb(227,90,36);stroke-width:1\" />\n",
              "</g>\n",
              "      </svg>\n",
              "    "
            ]
          },
          "metadata": {}
        }
      ]
    },
    {
      "cell_type": "code",
      "source": [
        "#nose\n",
        "nose.jumpto(-35,-50)\n",
        "nose.begin_fill()\n",
        "draw_triangle(nose,80)\n",
        "nose.end_fill()\n",
        "\n",
        "#mouth\n",
        "mouth.jumpto(0,-200)\n",
        "mouth.begin_fill()\n",
        "mouth.circle(50)\n",
        "mouth.end_fill()\n"
      ],
      "metadata": {
        "colab": {
          "base_uri": "https://localhost:8080/",
          "height": 1000
        },
        "id": "cozFQ1Dyyw2Z",
        "outputId": "99ad3b88-a2cb-4f45-c6ae-e42aa0f2785a"
      },
      "execution_count": null,
      "outputs": [
        {
          "output_type": "display_data",
          "data": {
            "text/plain": [
              "<IPython.core.display.HTML object>"
            ],
            "text/html": [
              "\n",
              "      <svg width=\"1000\" height=\"1000\">  \n",
              "        <rect width=\"100%\" height=\"100%\" style=\"fill:white;stroke:;stroke-width:1\"/>\n",
              "        \n",
              "        \n",
              "        <path fill-rule=\"evenodd\" fill-opacity=\"1\" d=\"M 403.0 500.0  L 603.0 500.0  L 703.0 326.795  L 603.0 153.59  L 403.0 153.59  L 303.0 326.795  L 403.0 500.0 \" stroke-linecap=\"round\" style=\"stroke:rgb(235,64,52);stroke-width:1\" fill=\"rgb(235,64,52)\" /><path fill-rule=\"evenodd\" fill-opacity=\"1\" d=\"M 308.0 724.0  L 508.0 724.0  L 608.0 550.795  L 508.0 377.59  L 308.0 377.59  L 208.0 550.795  L 308.0 724.0 \" stroke-linecap=\"round\" style=\"stroke:rgb(235,64,52);stroke-width:1\" fill=\"rgb(235,64,52)\" /><path fill-rule=\"evenodd\" fill-opacity=\"1\" d=\"M 499.0 724.0  L 699.0 724.0  L 799.0 550.795  L 699.0 377.59  L 499.0 377.59  L 399.0 550.795  L 499.0 724.0 \" stroke-linecap=\"round\" style=\"stroke:rgb(235,64,52);stroke-width:1\" fill=\"rgb(235,64,52)\" /><path fill-rule=\"evenodd\" fill-opacity=\"1\" d=\"M 308.0 550.0  A 61 61 0 0 0 308.0 428.0  A 61 61 0 0 0 308.0 550.0 \" stroke-linecap=\"round\" style=\"stroke:rgb(207,150,114);stroke-width:1\" fill=\"rgb(207,150,114)\" /><path fill-rule=\"evenodd\" fill-opacity=\"1\" d=\"M 692.0 550.0  A 61 61 0 0 0 692.0 428.0  A 61 61 0 0 0 692.0 550.0 \" stroke-linecap=\"round\" style=\"stroke:rgb(207,150,114);stroke-width:1\" fill=\"rgb(207,150,114)\" /><path fill-rule=\"evenodd\" fill-opacity=\"1\" d=\"M 500.0 750.0  A 215 215 0 0 0 500.0 320.0  A 215 215 0 0 0 500.0 750.0 \" stroke-linecap=\"round\" style=\"stroke:rgb(207,150,114);stroke-width:1\" fill=\"rgb(207,150,114)\" /><path fill-rule=\"evenodd\" fill-opacity=\"1\" d=\"M 385.0 920.0  L 615.0 920.0  L 615.0 720.0  L 385.0 720.0  L 385.0 920.0 \" stroke-linecap=\"round\" style=\"stroke:rgb(214,158,122);stroke-width:1\" fill=\"rgb(214,158,122)\" /><path fill-rule=\"evenodd\" fill-opacity=\"1\" d=\"M 610.0 610.0  A 50 50 0 0 0 610.0 510.0  A 50 50 0 0 0 610.0 610.0 \" stroke-linecap=\"round\" style=\"stroke:rgb(214,150,188);stroke-width:1\" fill=\"rgb(214,150,188)\" /><path fill-rule=\"evenodd\" fill-opacity=\"1\" d=\"M 390.0 610.0  A 50 50 0 0 0 390.0 510.0  A 50 50 0 0 0 390.0 610.0 \" stroke-linecap=\"round\" style=\"stroke:rgb(214,150,188);stroke-width:1\" fill=\"rgb(214,150,188)\" /><path fill-rule=\"evenodd\" fill-opacity=\"1\" d=\"M 420.0 500.0  A 45 45 0 0 0 420.0 410.0  A 45 45 0 0 0 420.0 500.0 \" stroke-linecap=\"round\" style=\"stroke:rgb(255,255,255);stroke-width:1\" fill=\"rgb(255,255,255)\" /><path fill-rule=\"evenodd\" fill-opacity=\"1\" d=\"M 580.0 500.0  A 45 45 0 0 0 580.0 410.0  A 45 45 0 0 0 580.0 500.0 \" stroke-linecap=\"round\" style=\"stroke:rgb(255,255,255);stroke-width:1\" fill=\"rgb(255,255,255)\" /><path fill-rule=\"evenodd\" fill-opacity=\"1\" d=\"M 420.0 500.0  A 30 30 0 0 0 420.0 440.0  A 30 30 0 0 0 420.0 500.0 \" stroke-linecap=\"round\" style=\"stroke:rgb(0,0,0);stroke-width:1\" fill=\"rgb(0,0,0)\" /><path fill-rule=\"evenodd\" fill-opacity=\"1\" d=\"M 580.0 500.0  A 30 30 0 0 0 580.0 440.0  A 30 30 0 0 0 580.0 500.0 \" stroke-linecap=\"round\" style=\"stroke:rgb(0,0,0);stroke-width:1\" fill=\"rgb(0,0,0)\" /><path fill-rule=\"evenodd\" fill-opacity=\"1\" d=\"M 465.0 550.0  L 545.0 550.0  L 505.0 480.718  L 465.0 550.0 \" stroke-linecap=\"round\" style=\"stroke:rgb(138,101,77);stroke-width:1\" fill=\"rgb(138,101,77)\" /><path fill-rule=\"evenodd\" fill-opacity=\"1\" d=\"M 500.0 700.0  A 50 50 0 0 0 500.0 600.0  A 50 50 0 0 0 500.0 700.0 \" stroke-linecap=\"round\" style=\"stroke:rgb(179,21,37);stroke-width:1\" fill=\"rgb(179,21,37)\" /><path fill-rule=\"evenodd\" fill-opacity=\"1\" d=\"M 530.0 405.0  L 630.0 405.0  L 630.0 385.0  L 530.0 385.0  L 530.0 405.0 \" stroke-linecap=\"round\" style=\"stroke:rgb(227,90,36);stroke-width:1\" fill=\"rgb(227,90,36)\" /><path fill-rule=\"evenodd\" fill-opacity=\"1\" d=\"M 370.0 405.0  L 470.0 405.0  L 470.0 385.0  L 370.0 385.0  L 370.0 405.0 \" stroke-linecap=\"round\" style=\"stroke:rgb(227,90,36);stroke-width:1\" fill=\"rgb(227,90,36)\" />\n",
              "        \n",
              "        \n",
              "        <g id=\"classic\" visibility=\"visible\" transform=\"rotate(-90.0,499.0,724.0) translate(499.0, 724.0)\">\n",
              "<polygon points=\"-5,-4.5 0,-2.5 5,-4.5 0,4.5\" transform=\"skewX(0) scale(1,1)\" style=\"stroke:rgb(235,64,52);fill:rgb(235,64,52);stroke-width:1\" />\n",
              "</g><g id=\"classic\" visibility=\"visible\" transform=\"rotate(-90.0,500.0,750.0) translate(500.0, 750.0)\">\n",
              "<polygon points=\"-5,-4.5 0,-2.5 5,-4.5 0,4.5\" transform=\"skewX(0) scale(1,1)\" style=\"stroke:rgb(207,150,114);fill:rgb(207,150,114);stroke-width:1\" />\n",
              "</g><g id=\"classic\" visibility=\"visible\" transform=\"rotate(-90,385.0,920.0) translate(385.0, 920.0)\">\n",
              "<polygon points=\"-5,-4.5 0,-2.5 5,-4.5 0,4.5\" transform=\"skewX(0) scale(1,1)\" style=\"stroke:rgb(214,158,122);fill:rgb(214,158,122);stroke-width:1\" />\n",
              "</g><g id=\"classic\" visibility=\"visible\" transform=\"rotate(-90.0,390.0,610.0) translate(390.0, 610.0)\">\n",
              "<polygon points=\"-5,-4.5 0,-2.5 5,-4.5 0,4.5\" transform=\"skewX(0) scale(1,1)\" style=\"stroke:rgb(214,150,188);fill:rgb(214,150,188);stroke-width:1\" />\n",
              "</g><g id=\"classic\" visibility=\"visible\" transform=\"rotate(-90.0,580.0,500.0) translate(580.0, 500.0)\">\n",
              "<polygon points=\"-5,-4.5 0,-2.5 5,-4.5 0,4.5\" transform=\"skewX(0) scale(1,1)\" style=\"stroke:rgb(255,255,255);fill:rgb(255,255,255);stroke-width:1\" />\n",
              "</g><g id=\"classic\" visibility=\"visible\" transform=\"rotate(-90.0,580.0,500.0) translate(580.0, 500.0)\">\n",
              "<polygon points=\"-5,-4.5 0,-2.5 5,-4.5 0,4.5\" transform=\"skewX(0) scale(1,1)\" style=\"stroke:rgb(0,0,0);fill:rgb(0,0,0);stroke-width:1\" />\n",
              "</g><g id=\"classic\" visibility=\"visible\" transform=\"rotate(-90.0,465.0,550.0) translate(465.0, 550.0)\">\n",
              "<polygon points=\"-5,-4.5 0,-2.5 5,-4.5 0,4.5\" transform=\"skewX(0) scale(1,1)\" style=\"stroke:rgb(138,101,77);fill:rgb(138,101,77);stroke-width:1\" />\n",
              "</g><g id=\"classic\" visibility=\"visible\" transform=\"rotate(-90.0,500.0,700.0) translate(500.0, 700.0)\">\n",
              "<polygon points=\"-5,-4.5 0,-2.5 5,-4.5 0,4.5\" transform=\"skewX(0) scale(1,1)\" style=\"stroke:rgb(179,21,37);fill:rgb(179,21,37);stroke-width:1\" />\n",
              "</g><g id=\"classic\" visibility=\"visible\" transform=\"rotate(-90,370.0,405.0) translate(370.0, 405.0)\">\n",
              "<polygon points=\"-5,-4.5 0,-2.5 5,-4.5 0,4.5\" transform=\"skewX(0) scale(1,1)\" style=\"stroke:rgb(227,90,36);fill:rgb(227,90,36);stroke-width:1\" />\n",
              "</g>\n",
              "      </svg>\n",
              "    "
            ]
          },
          "metadata": {}
        }
      ]
    },
    {
      "cell_type": "code",
      "source": [
        "screen_obj = Screen()\n",
        "print(screen_obj)\n",
        "#save screen as svg\n",
        "screen_obj.saveSVG('portrait_1.svg', False)"
      ],
      "metadata": {
        "colab": {
          "base_uri": "https://localhost:8080/"
        },
        "id": "p3qYLj3Uvzhv",
        "outputId": "35b4792f-ea4c-46a5-d568-b9c5534c97bf"
      },
      "execution_count": null,
      "outputs": [
        {
          "output_type": "stream",
          "name": "stdout",
          "text": [
            "<ColabTurtlePlus.Turtle._Screen object at 0x7f2ad94c4fa0>\n"
          ]
        }
      ]
    },
    {
      "cell_type": "markdown",
      "source": [
        "# Portrait 2"
      ],
      "metadata": {
        "id": "cnok1pQCzcvv"
      }
    },
    {
      "cell_type": "code",
      "execution_count": null,
      "metadata": {
        "colab": {
          "base_uri": "https://localhost:8080/"
        },
        "id": "e-e5INNcI6Be",
        "outputId": "3035a72f-ef88-405b-f62c-3f29c68ecde4"
      },
      "outputs": [
        {
          "output_type": "stream",
          "name": "stdout",
          "text": [
            "Looking in indexes: https://pypi.org/simple, https://us-python.pkg.dev/colab-wheels/public/simple/\n",
            "Requirement already satisfied: ColabTurtlePlus in /usr/local/lib/python3.8/dist-packages (2.0.1)\n"
          ]
        }
      ],
      "source": [
        "#uploading turtle program\n",
        "!pip install ColabTurtlePlus"
      ]
    },
    {
      "cell_type": "code",
      "source": [
        "#importing turtle plus and setting up basic commands and variables\n",
        "from ColabTurtlePlus.Turtle import *\n",
        "\n",
        "clearscreen()\n",
        "setup(1000,1000)\n",
        "\n",
        "#parts of the portrait 1\n",
        "hair = Turtle()\n",
        "hair.color((120, 238, 240))\n",
        "\n",
        "head = Turtle()\n",
        "head.color((245, 206, 162))\n",
        "\n",
        "neck = Turtle()\n",
        "neck.color((219, 184, 145))\n",
        "\n",
        "weye = Turtle()\n",
        "weye.color((255,255,255))\n",
        "\n",
        "pupil = Turtle()\n",
        "pupil.color((0,0,0))\n",
        "\n",
        "nose = Turtle()\n",
        "nose.color((219, 184, 145))\n",
        "\n",
        "mouth = Turtle()\n",
        "mouth.color((128, 65, 52))\n",
        "\n",
        "\n",
        "\n",
        "#square\n",
        "def draw_square(Turtle_obj, side_length):\n",
        " for i in range(4):\n",
        "  Turtle_obj.forward(side_length)\n",
        "  Turtle_obj.left(90)\n",
        "\n",
        "#triangle\n",
        "def draw_triangle(Turtle_obj,side_length):\n",
        "  for side in range(3):\n",
        "    Turtle_obj.fd(side_length)\n",
        "    Turtle_obj.lt(360/3)\n",
        "\n",
        "#polygon\n",
        "def draw_polygon(Turtle_obj, side_number, side_length):\n",
        "  for side in range(side_number):\n",
        "    Turtle_obj.fd(side_length)\n",
        "    Turtle_obj.lt(360/side_number)\n",
        "\n",
        "#rectangle\n",
        "def draw_rectangle(Turtle_obj, side_length1,side_length2):\n",
        " for i in range(2):\n",
        "  Turtle_obj.forward(side_length1)\n",
        "  Turtle_obj.left(90)\n",
        "  Turtle_obj.forward(side_length2)\n",
        "  Turtle_obj.left(90)\n",
        "\n",
        "#reverse rectangle\n",
        "def draw_reverse_rectangle(Turtle_obj, side_length1,side_length2):\n",
        " for i in range(2):\n",
        "  Turtle_obj.forward(side_length1)\n",
        "  Turtle_obj.right(90)\n",
        "  Turtle_obj.forward(side_length2)\n",
        "  Turtle_obj.right(90)\n",
        "\n",
        "#star\n",
        "def draw_star(Turtle_obj, side_length):\n",
        "  for i in range(6):\n",
        "    Turtle_obj.forward(side_length)\n",
        "    Turtle_obj.right(144)\n",
        "\n",
        "#using tutrle circle function\n",
        "#Turtle.circle(150)"
      ],
      "metadata": {
        "colab": {
          "base_uri": "https://localhost:8080/",
          "height": 1000
        },
        "id": "kS0DtRSVJBQO",
        "outputId": "445110d6-f1d8-4af9-ff98-66876aae5d43"
      },
      "execution_count": null,
      "outputs": [
        {
          "output_type": "display_data",
          "data": {
            "text/plain": [
              "<IPython.core.display.HTML object>"
            ],
            "text/html": [
              "\n",
              "      <svg width=\"1000\" height=\"1000\">  \n",
              "        <rect width=\"100%\" height=\"100%\" style=\"fill:white;stroke:;stroke-width:1\"/>\n",
              "        \n",
              "        \n",
              "        \n",
              "        \n",
              "        \n",
              "        <g id=\"classic\" visibility=\"visible\" transform=\"rotate(-90,500.0,500.0) translate(500.0, 500.0)\">\n",
              "<polygon points=\"-5,-4.5 0,-2.5 5,-4.5 0,4.5\" transform=\"skewX(0) scale(1,1)\" style=\"stroke:rgb(120,238,240);fill:rgb(120,238,240);stroke-width:1\" />\n",
              "</g><g id=\"classic\" visibility=\"visible\" transform=\"rotate(-90,500.0,500.0) translate(500.0, 500.0)\">\n",
              "<polygon points=\"-5,-4.5 0,-2.5 5,-4.5 0,4.5\" transform=\"skewX(0) scale(1,1)\" style=\"stroke:rgb(245,206,162);fill:rgb(245,206,162);stroke-width:1\" />\n",
              "</g><g id=\"classic\" visibility=\"visible\" transform=\"rotate(-90,500.0,500.0) translate(500.0, 500.0)\">\n",
              "<polygon points=\"-5,-4.5 0,-2.5 5,-4.5 0,4.5\" transform=\"skewX(0) scale(1,1)\" style=\"stroke:rgb(219,184,145);fill:rgb(219,184,145);stroke-width:1\" />\n",
              "</g><g id=\"classic\" visibility=\"visible\" transform=\"rotate(-90,500.0,500.0) translate(500.0, 500.0)\">\n",
              "<polygon points=\"-5,-4.5 0,-2.5 5,-4.5 0,4.5\" transform=\"skewX(0) scale(1,1)\" style=\"stroke:rgb(255,255,255);fill:rgb(255,255,255);stroke-width:1\" />\n",
              "</g><g id=\"classic\" visibility=\"visible\" transform=\"rotate(-90,500.0,500.0) translate(500.0, 500.0)\">\n",
              "<polygon points=\"-5,-4.5 0,-2.5 5,-4.5 0,4.5\" transform=\"skewX(0) scale(1,1)\" style=\"stroke:rgb(0,0,0);fill:rgb(0,0,0);stroke-width:1\" />\n",
              "</g><g id=\"classic\" visibility=\"visible\" transform=\"rotate(-90,500.0,500.0) translate(500.0, 500.0)\">\n",
              "<polygon points=\"-5,-4.5 0,-2.5 5,-4.5 0,4.5\" transform=\"skewX(0) scale(1,1)\" style=\"stroke:rgb(219,184,145);fill:rgb(219,184,145);stroke-width:1\" />\n",
              "</g><g id=\"classic\" visibility=\"visible\" transform=\"rotate(-90,500.0,500.0) translate(500.0, 500.0)\">\n",
              "<polygon points=\"-5,-4.5 0,-2.5 5,-4.5 0,4.5\" transform=\"skewX(0) scale(1,1)\" style=\"stroke:rgb(128,65,52);fill:rgb(128,65,52);stroke-width:1\" />\n",
              "</g>\n",
              "      </svg>\n",
              "    "
            ]
          },
          "metadata": {}
        }
      ]
    },
    {
      "cell_type": "code",
      "source": [
        "#hair\n",
        "hair.jumpto(-200,200)\n",
        "hair.begin_fill()\n",
        "draw_star(hair,700)\n",
        "hair.end_fill()\n",
        "\n",
        "#ears\n",
        "head.jumpto(0,10)\n",
        "head.begin_fill()\n",
        "head.circle(35)\n",
        "head.end_fill()\n",
        "\n",
        "head.jumpto(310,10)\n",
        "head.begin_fill()\n",
        "head.circle(35)\n",
        "head.end_fill()"
      ],
      "metadata": {
        "colab": {
          "base_uri": "https://localhost:8080/",
          "height": 1000
        },
        "id": "FG4-zHVWMGwB",
        "outputId": "564f8c07-734b-4a9f-ab91-2db87fe21a44"
      },
      "execution_count": null,
      "outputs": [
        {
          "output_type": "display_data",
          "data": {
            "text/plain": [
              "<IPython.core.display.HTML object>"
            ],
            "text/html": [
              "\n",
              "      <svg width=\"1000\" height=\"1000\">  \n",
              "        <rect width=\"100%\" height=\"100%\" style=\"fill:white;stroke:;stroke-width:1\"/>\n",
              "        \n",
              "        \n",
              "        <path fill-rule=\"evenodd\" fill-opacity=\"1\" d=\"M 300.0 300.0  L 1000.0 300.0  L 433.688 711.45  L 650.0 45.71  L 866.312 711.45  L 300.0 300.0  L 1000.0 300.0 \" stroke-linecap=\"round\" style=\"stroke:rgb(120,238,240);stroke-width:1\" fill=\"rgb(120,238,240)\" /><path fill-rule=\"evenodd\" fill-opacity=\"1\" d=\"M 500.0 490.0  A 35 35 0 0 0 500.0 420.0  A 35 35 0 0 0 500.0 490.0 \" stroke-linecap=\"round\" style=\"stroke:rgb(245,206,162);stroke-width:1\" fill=\"rgb(245,206,162)\" /><path fill-rule=\"evenodd\" fill-opacity=\"1\" d=\"M 810.0 490.0  A 35 35 0 0 0 810.0 420.0  A 35 35 0 0 0 810.0 490.0 \" stroke-linecap=\"round\" style=\"stroke:rgb(245,206,162);stroke-width:1\" fill=\"rgb(245,206,162)\" />\n",
              "        \n",
              "        \n",
              "        <g id=\"classic\" visibility=\"visible\" transform=\"rotate(54,1000.0,300.0) translate(1000.0, 300.0)\">\n",
              "<polygon points=\"-5,-4.5 0,-2.5 5,-4.5 0,4.5\" transform=\"skewX(0) scale(1,1)\" style=\"stroke:rgb(120,238,240);fill:rgb(120,238,240);stroke-width:1\" />\n",
              "</g><g id=\"classic\" visibility=\"visible\" transform=\"rotate(-90.0,810.0,490.0) translate(810.0, 490.0)\">\n",
              "<polygon points=\"-5,-4.5 0,-2.5 5,-4.5 0,4.5\" transform=\"skewX(0) scale(1,1)\" style=\"stroke:rgb(245,206,162);fill:rgb(245,206,162);stroke-width:1\" />\n",
              "</g><g id=\"classic\" visibility=\"visible\" transform=\"rotate(-90,500.0,500.0) translate(500.0, 500.0)\">\n",
              "<polygon points=\"-5,-4.5 0,-2.5 5,-4.5 0,4.5\" transform=\"skewX(0) scale(1,1)\" style=\"stroke:rgb(219,184,145);fill:rgb(219,184,145);stroke-width:1\" />\n",
              "</g><g id=\"classic\" visibility=\"visible\" transform=\"rotate(-90,500.0,500.0) translate(500.0, 500.0)\">\n",
              "<polygon points=\"-5,-4.5 0,-2.5 5,-4.5 0,4.5\" transform=\"skewX(0) scale(1,1)\" style=\"stroke:rgb(255,255,255);fill:rgb(255,255,255);stroke-width:1\" />\n",
              "</g><g id=\"classic\" visibility=\"visible\" transform=\"rotate(-90,500.0,500.0) translate(500.0, 500.0)\">\n",
              "<polygon points=\"-5,-4.5 0,-2.5 5,-4.5 0,4.5\" transform=\"skewX(0) scale(1,1)\" style=\"stroke:rgb(0,0,0);fill:rgb(0,0,0);stroke-width:1\" />\n",
              "</g><g id=\"classic\" visibility=\"visible\" transform=\"rotate(-90,500.0,500.0) translate(500.0, 500.0)\">\n",
              "<polygon points=\"-5,-4.5 0,-2.5 5,-4.5 0,4.5\" transform=\"skewX(0) scale(1,1)\" style=\"stroke:rgb(219,184,145);fill:rgb(219,184,145);stroke-width:1\" />\n",
              "</g><g id=\"classic\" visibility=\"visible\" transform=\"rotate(-90,500.0,500.0) translate(500.0, 500.0)\">\n",
              "<polygon points=\"-5,-4.5 0,-2.5 5,-4.5 0,4.5\" transform=\"skewX(0) scale(1,1)\" style=\"stroke:rgb(128,65,52);fill:rgb(128,65,52);stroke-width:1\" />\n",
              "</g>\n",
              "      </svg>\n",
              "    "
            ]
          },
          "metadata": {}
        }
      ]
    },
    {
      "cell_type": "code",
      "source": [
        "#head base\n",
        "head.jumpto(150,-50)\n",
        "head.begin_fill()\n",
        "head.circle(150)\n",
        "head.end_fill()\n",
        "\n",
        "#chin\n",
        "head.jumpto(20,-120)\n",
        "head.begin_fill()\n",
        "draw_square(head,270)\n",
        "head.end_fill()\n",
        "\n",
        "#neck\n",
        "neck.jumpto(50,-120)\n",
        "neck.begin_fill()\n",
        "draw_reverse_rectangle(neck,200,150)\n",
        "neck.end_fill()"
      ],
      "metadata": {
        "colab": {
          "base_uri": "https://localhost:8080/",
          "height": 1000
        },
        "id": "4-yAMDYyeg8v",
        "outputId": "b225f8f3-cb9b-41c7-8508-9003d6a34a74"
      },
      "execution_count": null,
      "outputs": [
        {
          "output_type": "display_data",
          "data": {
            "text/plain": [
              "<IPython.core.display.HTML object>"
            ],
            "text/html": [
              "\n",
              "      <svg width=\"1000\" height=\"1000\">  \n",
              "        <rect width=\"100%\" height=\"100%\" style=\"fill:white;stroke:;stroke-width:1\"/>\n",
              "        \n",
              "        \n",
              "        <path fill-rule=\"evenodd\" fill-opacity=\"1\" d=\"M 300.0 300.0  L 1000.0 300.0  L 433.688 711.45  L 650.0 45.71  L 866.312 711.45  L 300.0 300.0  L 1000.0 300.0 \" stroke-linecap=\"round\" style=\"stroke:rgb(120,238,240);stroke-width:1\" fill=\"rgb(120,238,240)\" /><path fill-rule=\"evenodd\" fill-opacity=\"1\" d=\"M 500.0 490.0  A 35 35 0 0 0 500.0 420.0  A 35 35 0 0 0 500.0 490.0 \" stroke-linecap=\"round\" style=\"stroke:rgb(245,206,162);stroke-width:1\" fill=\"rgb(245,206,162)\" /><path fill-rule=\"evenodd\" fill-opacity=\"1\" d=\"M 810.0 490.0  A 35 35 0 0 0 810.0 420.0  A 35 35 0 0 0 810.0 490.0 \" stroke-linecap=\"round\" style=\"stroke:rgb(245,206,162);stroke-width:1\" fill=\"rgb(245,206,162)\" /><path fill-rule=\"evenodd\" fill-opacity=\"1\" d=\"M 650.0 550.0  A 150 150 0 0 0 650.0 250.0  A 150 150 0 0 0 650.0 550.0 \" stroke-linecap=\"round\" style=\"stroke:rgb(245,206,162);stroke-width:1\" fill=\"rgb(245,206,162)\" /><path fill-rule=\"evenodd\" fill-opacity=\"1\" d=\"M 520.0 620.0  L 790.0 620.0  L 790.0 350.0  L 520.0 350.0  L 520.0 620.0 \" stroke-linecap=\"round\" style=\"stroke:rgb(245,206,162);stroke-width:1\" fill=\"rgb(245,206,162)\" /><path fill-rule=\"evenodd\" fill-opacity=\"1\" d=\"M 550.0 620.0  L 750.0 620.0  L 750.0 770.0  L 550.0 770.0  L 550.0 620.0 \" stroke-linecap=\"round\" style=\"stroke:rgb(219,184,145);stroke-width:1\" fill=\"rgb(219,184,145)\" />\n",
              "        \n",
              "        \n",
              "        <g id=\"classic\" visibility=\"visible\" transform=\"rotate(54,1000.0,300.0) translate(1000.0, 300.0)\">\n",
              "<polygon points=\"-5,-4.5 0,-2.5 5,-4.5 0,4.5\" transform=\"skewX(0) scale(1,1)\" style=\"stroke:rgb(120,238,240);fill:rgb(120,238,240);stroke-width:1\" />\n",
              "</g><g id=\"classic\" visibility=\"visible\" transform=\"rotate(-90.0,520.0,620.0) translate(520.0, 620.0)\">\n",
              "<polygon points=\"-5,-4.5 0,-2.5 5,-4.5 0,4.5\" transform=\"skewX(0) scale(1,1)\" style=\"stroke:rgb(245,206,162);fill:rgb(245,206,162);stroke-width:1\" />\n",
              "</g><g id=\"classic\" visibility=\"visible\" transform=\"rotate(-90,550.0,620.0) translate(550.0, 620.0)\">\n",
              "<polygon points=\"-5,-4.5 0,-2.5 5,-4.5 0,4.5\" transform=\"skewX(0) scale(1,1)\" style=\"stroke:rgb(219,184,145);fill:rgb(219,184,145);stroke-width:1\" />\n",
              "</g><g id=\"classic\" visibility=\"visible\" transform=\"rotate(-90,500.0,500.0) translate(500.0, 500.0)\">\n",
              "<polygon points=\"-5,-4.5 0,-2.5 5,-4.5 0,4.5\" transform=\"skewX(0) scale(1,1)\" style=\"stroke:rgb(255,255,255);fill:rgb(255,255,255);stroke-width:1\" />\n",
              "</g><g id=\"classic\" visibility=\"visible\" transform=\"rotate(-90,500.0,500.0) translate(500.0, 500.0)\">\n",
              "<polygon points=\"-5,-4.5 0,-2.5 5,-4.5 0,4.5\" transform=\"skewX(0) scale(1,1)\" style=\"stroke:rgb(0,0,0);fill:rgb(0,0,0);stroke-width:1\" />\n",
              "</g><g id=\"classic\" visibility=\"visible\" transform=\"rotate(-90,500.0,500.0) translate(500.0, 500.0)\">\n",
              "<polygon points=\"-5,-4.5 0,-2.5 5,-4.5 0,4.5\" transform=\"skewX(0) scale(1,1)\" style=\"stroke:rgb(219,184,145);fill:rgb(219,184,145);stroke-width:1\" />\n",
              "</g><g id=\"classic\" visibility=\"visible\" transform=\"rotate(-90,500.0,500.0) translate(500.0, 500.0)\">\n",
              "<polygon points=\"-5,-4.5 0,-2.5 5,-4.5 0,4.5\" transform=\"skewX(0) scale(1,1)\" style=\"stroke:rgb(128,65,52);fill:rgb(128,65,52);stroke-width:1\" />\n",
              "</g>\n",
              "      </svg>\n",
              "    "
            ]
          },
          "metadata": {}
        }
      ]
    },
    {
      "cell_type": "code",
      "source": [
        "#eye base\n",
        "weye.jumpto(100,50)\n",
        "weye.begin_fill()\n",
        "weye.circle(40)\n",
        "weye.end_fill()\n",
        "\n",
        "weye.jumpto(200,50)\n",
        "weye.begin_fill()\n",
        "weye.circle(40)\n",
        "weye.end_fill()\n",
        "\n",
        "pupil.jumpto(100,75)\n",
        "pupil.begin_fill()\n",
        "pupil.circle(30)\n",
        "pupil.end_fill()\n",
        "\n",
        "pupil.jumpto(200,75)\n",
        "pupil.begin_fill()\n",
        "pupil.circle(30)\n",
        "pupil.end_fill()\n",
        "\n",
        "#eyelid\n",
        "eyelid = Turtle()\n",
        "eyelid.color((245, 206, 162))\n",
        "\n",
        "eyelid.jumpto(100,107)\n",
        "eyelid.begin_fill()\n",
        "eyelid.circle(40)\n",
        "eyelid.end_fill()\n",
        "\n",
        "eyelid.jumpto(200,107)\n",
        "eyelid.begin_fill()\n",
        "eyelid.circle(40)\n",
        "eyelid.end_fill()\n",
        "\n",
        "#eyebrow\n",
        "eyebrow = Turtle()\n",
        "eyebrow.color((120, 238, 240))\n",
        "\n",
        "eyebrow.jumpto(50,140)\n",
        "eyebrow.begin_fill()\n",
        "draw_rectangle(eyebrow,200,30)\n",
        "eyebrow.end_fill()"
      ],
      "metadata": {
        "colab": {
          "base_uri": "https://localhost:8080/",
          "height": 1000
        },
        "id": "JCmsZtI3vt-t",
        "outputId": "ff64d6db-0031-4c58-e96d-cbe626919e77"
      },
      "execution_count": null,
      "outputs": [
        {
          "output_type": "display_data",
          "data": {
            "text/plain": [
              "<IPython.core.display.HTML object>"
            ],
            "text/html": [
              "\n",
              "      <svg width=\"1000\" height=\"1000\">  \n",
              "        <rect width=\"100%\" height=\"100%\" style=\"fill:white;stroke:;stroke-width:1\"/>\n",
              "        \n",
              "        \n",
              "        <path fill-rule=\"evenodd\" fill-opacity=\"1\" d=\"M 300.0 300.0  L 1000.0 300.0  L 433.688 711.45  L 650.0 45.71  L 866.312 711.45  L 300.0 300.0  L 1000.0 300.0 \" stroke-linecap=\"round\" style=\"stroke:rgb(120,238,240);stroke-width:1\" fill=\"rgb(120,238,240)\" /><path fill-rule=\"evenodd\" fill-opacity=\"1\" d=\"M 500.0 490.0  A 35 35 0 0 0 500.0 420.0  A 35 35 0 0 0 500.0 490.0 \" stroke-linecap=\"round\" style=\"stroke:rgb(245,206,162);stroke-width:1\" fill=\"rgb(245,206,162)\" /><path fill-rule=\"evenodd\" fill-opacity=\"1\" d=\"M 810.0 490.0  A 35 35 0 0 0 810.0 420.0  A 35 35 0 0 0 810.0 490.0 \" stroke-linecap=\"round\" style=\"stroke:rgb(245,206,162);stroke-width:1\" fill=\"rgb(245,206,162)\" /><path fill-rule=\"evenodd\" fill-opacity=\"1\" d=\"M 650.0 550.0  A 150 150 0 0 0 650.0 250.0  A 150 150 0 0 0 650.0 550.0 \" stroke-linecap=\"round\" style=\"stroke:rgb(245,206,162);stroke-width:1\" fill=\"rgb(245,206,162)\" /><path fill-rule=\"evenodd\" fill-opacity=\"1\" d=\"M 520.0 620.0  L 790.0 620.0  L 790.0 350.0  L 520.0 350.0  L 520.0 620.0 \" stroke-linecap=\"round\" style=\"stroke:rgb(245,206,162);stroke-width:1\" fill=\"rgb(245,206,162)\" /><path fill-rule=\"evenodd\" fill-opacity=\"1\" d=\"M 550.0 620.0  L 750.0 620.0  L 750.0 770.0  L 550.0 770.0  L 550.0 620.0 \" stroke-linecap=\"round\" style=\"stroke:rgb(219,184,145);stroke-width:1\" fill=\"rgb(219,184,145)\" /><path fill-rule=\"evenodd\" fill-opacity=\"1\" d=\"M 600.0 450.0  A 40 40 0 0 0 600.0 370.0  A 40 40 0 0 0 600.0 450.0 \" stroke-linecap=\"round\" style=\"stroke:rgb(255,255,255);stroke-width:1\" fill=\"rgb(255,255,255)\" /><path fill-rule=\"evenodd\" fill-opacity=\"1\" d=\"M 700.0 450.0  A 40 40 0 0 0 700.0 370.0  A 40 40 0 0 0 700.0 450.0 \" stroke-linecap=\"round\" style=\"stroke:rgb(255,255,255);stroke-width:1\" fill=\"rgb(255,255,255)\" /><path fill-rule=\"evenodd\" fill-opacity=\"1\" d=\"M 600.0 425.0  A 30 30 0 0 0 600.0 365.0  A 30 30 0 0 0 600.0 425.0 \" stroke-linecap=\"round\" style=\"stroke:rgb(0,0,0);stroke-width:1\" fill=\"rgb(0,0,0)\" /><path fill-rule=\"evenodd\" fill-opacity=\"1\" d=\"M 700.0 425.0  A 30 30 0 0 0 700.0 365.0  A 30 30 0 0 0 700.0 425.0 \" stroke-linecap=\"round\" style=\"stroke:rgb(0,0,0);stroke-width:1\" fill=\"rgb(0,0,0)\" /><path fill-rule=\"evenodd\" fill-opacity=\"1\" d=\"M 600.0 393.0  A 40 40 0 0 0 600.0 313.0  A 40 40 0 0 0 600.0 393.0 \" stroke-linecap=\"round\" style=\"stroke:rgb(245,206,162);stroke-width:1\" fill=\"rgb(245,206,162)\" /><path fill-rule=\"evenodd\" fill-opacity=\"1\" d=\"M 700.0 393.0  A 40 40 0 0 0 700.0 313.0  A 40 40 0 0 0 700.0 393.0 \" stroke-linecap=\"round\" style=\"stroke:rgb(245,206,162);stroke-width:1\" fill=\"rgb(245,206,162)\" /><path fill-rule=\"evenodd\" fill-opacity=\"1\" d=\"M 550.0 360.0  L 750.0 360.0  L 750.0 330.0  L 550.0 330.0  L 550.0 360.0 \" stroke-linecap=\"round\" style=\"stroke:rgb(120,238,240);stroke-width:1\" fill=\"rgb(120,238,240)\" />\n",
              "        \n",
              "        \n",
              "        <g id=\"classic\" visibility=\"visible\" transform=\"rotate(54,1000.0,300.0) translate(1000.0, 300.0)\">\n",
              "<polygon points=\"-5,-4.5 0,-2.5 5,-4.5 0,4.5\" transform=\"skewX(0) scale(1,1)\" style=\"stroke:rgb(120,238,240);fill:rgb(120,238,240);stroke-width:1\" />\n",
              "</g><g id=\"classic\" visibility=\"visible\" transform=\"rotate(-90.0,520.0,620.0) translate(520.0, 620.0)\">\n",
              "<polygon points=\"-5,-4.5 0,-2.5 5,-4.5 0,4.5\" transform=\"skewX(0) scale(1,1)\" style=\"stroke:rgb(245,206,162);fill:rgb(245,206,162);stroke-width:1\" />\n",
              "</g><g id=\"classic\" visibility=\"visible\" transform=\"rotate(-90,550.0,620.0) translate(550.0, 620.0)\">\n",
              "<polygon points=\"-5,-4.5 0,-2.5 5,-4.5 0,4.5\" transform=\"skewX(0) scale(1,1)\" style=\"stroke:rgb(219,184,145);fill:rgb(219,184,145);stroke-width:1\" />\n",
              "</g><g id=\"classic\" visibility=\"visible\" transform=\"rotate(-90.0,700.0,450.0) translate(700.0, 450.0)\">\n",
              "<polygon points=\"-5,-4.5 0,-2.5 5,-4.5 0,4.5\" transform=\"skewX(0) scale(1,1)\" style=\"stroke:rgb(255,255,255);fill:rgb(255,255,255);stroke-width:1\" />\n",
              "</g><g id=\"classic\" visibility=\"visible\" transform=\"rotate(-90.0,700.0,425.0) translate(700.0, 425.0)\">\n",
              "<polygon points=\"-5,-4.5 0,-2.5 5,-4.5 0,4.5\" transform=\"skewX(0) scale(1,1)\" style=\"stroke:rgb(0,0,0);fill:rgb(0,0,0);stroke-width:1\" />\n",
              "</g><g id=\"classic\" visibility=\"visible\" transform=\"rotate(-90,500.0,500.0) translate(500.0, 500.0)\">\n",
              "<polygon points=\"-5,-4.5 0,-2.5 5,-4.5 0,4.5\" transform=\"skewX(0) scale(1,1)\" style=\"stroke:rgb(219,184,145);fill:rgb(219,184,145);stroke-width:1\" />\n",
              "</g><g id=\"classic\" visibility=\"visible\" transform=\"rotate(-90,500.0,500.0) translate(500.0, 500.0)\">\n",
              "<polygon points=\"-5,-4.5 0,-2.5 5,-4.5 0,4.5\" transform=\"skewX(0) scale(1,1)\" style=\"stroke:rgb(128,65,52);fill:rgb(128,65,52);stroke-width:1\" />\n",
              "</g><g id=\"classic\" visibility=\"visible\" transform=\"rotate(-90.0,700.0,393.0) translate(700.0, 393.0)\">\n",
              "<polygon points=\"-5,-4.5 0,-2.5 5,-4.5 0,4.5\" transform=\"skewX(0) scale(1,1)\" style=\"stroke:rgb(245,206,162);fill:rgb(245,206,162);stroke-width:1\" />\n",
              "</g><g id=\"classic\" visibility=\"visible\" transform=\"rotate(-90,550.0,360.0) translate(550.0, 360.0)\">\n",
              "<polygon points=\"-5,-4.5 0,-2.5 5,-4.5 0,4.5\" transform=\"skewX(0) scale(1,1)\" style=\"stroke:rgb(120,238,240);fill:rgb(120,238,240);stroke-width:1\" />\n",
              "</g>\n",
              "      </svg>\n",
              "    "
            ]
          },
          "metadata": {}
        }
      ]
    },
    {
      "cell_type": "code",
      "source": [
        "#nose\n",
        "nose.jumpto(140,40)\n",
        "nose.begin_fill()\n",
        "draw_reverse_rectangle(nose,25,55)\n",
        "nose.end_fill()"
      ],
      "metadata": {
        "colab": {
          "base_uri": "https://localhost:8080/",
          "height": 1000
        },
        "id": "8a7sQzFw7JuT",
        "outputId": "83e4f650-c9ee-423d-e08c-93ff2fc03086"
      },
      "execution_count": null,
      "outputs": [
        {
          "output_type": "display_data",
          "data": {
            "text/plain": [
              "<IPython.core.display.HTML object>"
            ],
            "text/html": [
              "\n",
              "      <svg width=\"1000\" height=\"1000\">  \n",
              "        <rect width=\"100%\" height=\"100%\" style=\"fill:white;stroke:;stroke-width:1\"/>\n",
              "        \n",
              "        \n",
              "        <path fill-rule=\"evenodd\" fill-opacity=\"1\" d=\"M 300.0 300.0  L 1000.0 300.0  L 433.688 711.45  L 650.0 45.71  L 866.312 711.45  L 300.0 300.0  L 1000.0 300.0 \" stroke-linecap=\"round\" style=\"stroke:rgb(120,238,240);stroke-width:1\" fill=\"rgb(120,238,240)\" /><path fill-rule=\"evenodd\" fill-opacity=\"1\" d=\"M 500.0 490.0  A 35 35 0 0 0 500.0 420.0  A 35 35 0 0 0 500.0 490.0 \" stroke-linecap=\"round\" style=\"stroke:rgb(245,206,162);stroke-width:1\" fill=\"rgb(245,206,162)\" /><path fill-rule=\"evenodd\" fill-opacity=\"1\" d=\"M 810.0 490.0  A 35 35 0 0 0 810.0 420.0  A 35 35 0 0 0 810.0 490.0 \" stroke-linecap=\"round\" style=\"stroke:rgb(245,206,162);stroke-width:1\" fill=\"rgb(245,206,162)\" /><path fill-rule=\"evenodd\" fill-opacity=\"1\" d=\"M 650.0 550.0  A 150 150 0 0 0 650.0 250.0  A 150 150 0 0 0 650.0 550.0 \" stroke-linecap=\"round\" style=\"stroke:rgb(245,206,162);stroke-width:1\" fill=\"rgb(245,206,162)\" /><path fill-rule=\"evenodd\" fill-opacity=\"1\" d=\"M 520.0 620.0  L 790.0 620.0  L 790.0 350.0  L 520.0 350.0  L 520.0 620.0 \" stroke-linecap=\"round\" style=\"stroke:rgb(245,206,162);stroke-width:1\" fill=\"rgb(245,206,162)\" /><path fill-rule=\"evenodd\" fill-opacity=\"1\" d=\"M 550.0 620.0  L 750.0 620.0  L 750.0 770.0  L 550.0 770.0  L 550.0 620.0 \" stroke-linecap=\"round\" style=\"stroke:rgb(219,184,145);stroke-width:1\" fill=\"rgb(219,184,145)\" /><path fill-rule=\"evenodd\" fill-opacity=\"1\" d=\"M 600.0 450.0  A 40 40 0 0 0 600.0 370.0  A 40 40 0 0 0 600.0 450.0 \" stroke-linecap=\"round\" style=\"stroke:rgb(255,255,255);stroke-width:1\" fill=\"rgb(255,255,255)\" /><path fill-rule=\"evenodd\" fill-opacity=\"1\" d=\"M 700.0 450.0  A 40 40 0 0 0 700.0 370.0  A 40 40 0 0 0 700.0 450.0 \" stroke-linecap=\"round\" style=\"stroke:rgb(255,255,255);stroke-width:1\" fill=\"rgb(255,255,255)\" /><path fill-rule=\"evenodd\" fill-opacity=\"1\" d=\"M 600.0 425.0  A 30 30 0 0 0 600.0 365.0  A 30 30 0 0 0 600.0 425.0 \" stroke-linecap=\"round\" style=\"stroke:rgb(0,0,0);stroke-width:1\" fill=\"rgb(0,0,0)\" /><path fill-rule=\"evenodd\" fill-opacity=\"1\" d=\"M 700.0 425.0  A 30 30 0 0 0 700.0 365.0  A 30 30 0 0 0 700.0 425.0 \" stroke-linecap=\"round\" style=\"stroke:rgb(0,0,0);stroke-width:1\" fill=\"rgb(0,0,0)\" /><path fill-rule=\"evenodd\" fill-opacity=\"1\" d=\"M 640.0 460.0  L 665.0 460.0  L 665.0 515.0  L 640.0 515.0  L 640.0 460.0 \" stroke-linecap=\"round\" style=\"stroke:rgb(219,184,145);stroke-width:1\" fill=\"rgb(219,184,145)\" /><path fill-rule=\"evenodd\" fill-opacity=\"1\" d=\"M 600.0 393.0  A 40 40 0 0 0 600.0 313.0  A 40 40 0 0 0 600.0 393.0 \" stroke-linecap=\"round\" style=\"stroke:rgb(245,206,162);stroke-width:1\" fill=\"rgb(245,206,162)\" /><path fill-rule=\"evenodd\" fill-opacity=\"1\" d=\"M 700.0 393.0  A 40 40 0 0 0 700.0 313.0  A 40 40 0 0 0 700.0 393.0 \" stroke-linecap=\"round\" style=\"stroke:rgb(245,206,162);stroke-width:1\" fill=\"rgb(245,206,162)\" /><path fill-rule=\"evenodd\" fill-opacity=\"1\" d=\"M 550.0 360.0  L 750.0 360.0  L 750.0 330.0  L 550.0 330.0  L 550.0 360.0 \" stroke-linecap=\"round\" style=\"stroke:rgb(120,238,240);stroke-width:1\" fill=\"rgb(120,238,240)\" />\n",
              "        \n",
              "        \n",
              "        <g id=\"classic\" visibility=\"visible\" transform=\"rotate(54,1000.0,300.0) translate(1000.0, 300.0)\">\n",
              "<polygon points=\"-5,-4.5 0,-2.5 5,-4.5 0,4.5\" transform=\"skewX(0) scale(1,1)\" style=\"stroke:rgb(120,238,240);fill:rgb(120,238,240);stroke-width:1\" />\n",
              "</g><g id=\"classic\" visibility=\"visible\" transform=\"rotate(-90.0,520.0,620.0) translate(520.0, 620.0)\">\n",
              "<polygon points=\"-5,-4.5 0,-2.5 5,-4.5 0,4.5\" transform=\"skewX(0) scale(1,1)\" style=\"stroke:rgb(245,206,162);fill:rgb(245,206,162);stroke-width:1\" />\n",
              "</g><g id=\"classic\" visibility=\"visible\" transform=\"rotate(-90,550.0,620.0) translate(550.0, 620.0)\">\n",
              "<polygon points=\"-5,-4.5 0,-2.5 5,-4.5 0,4.5\" transform=\"skewX(0) scale(1,1)\" style=\"stroke:rgb(219,184,145);fill:rgb(219,184,145);stroke-width:1\" />\n",
              "</g><g id=\"classic\" visibility=\"visible\" transform=\"rotate(-90.0,700.0,450.0) translate(700.0, 450.0)\">\n",
              "<polygon points=\"-5,-4.5 0,-2.5 5,-4.5 0,4.5\" transform=\"skewX(0) scale(1,1)\" style=\"stroke:rgb(255,255,255);fill:rgb(255,255,255);stroke-width:1\" />\n",
              "</g><g id=\"classic\" visibility=\"visible\" transform=\"rotate(-90.0,700.0,425.0) translate(700.0, 425.0)\">\n",
              "<polygon points=\"-5,-4.5 0,-2.5 5,-4.5 0,4.5\" transform=\"skewX(0) scale(1,1)\" style=\"stroke:rgb(0,0,0);fill:rgb(0,0,0);stroke-width:1\" />\n",
              "</g><g id=\"classic\" visibility=\"visible\" transform=\"rotate(-90,640.0,460.0) translate(640.0, 460.0)\">\n",
              "<polygon points=\"-5,-4.5 0,-2.5 5,-4.5 0,4.5\" transform=\"skewX(0) scale(1,1)\" style=\"stroke:rgb(219,184,145);fill:rgb(219,184,145);stroke-width:1\" />\n",
              "</g><g id=\"classic\" visibility=\"visible\" transform=\"rotate(-90,500.0,500.0) translate(500.0, 500.0)\">\n",
              "<polygon points=\"-5,-4.5 0,-2.5 5,-4.5 0,4.5\" transform=\"skewX(0) scale(1,1)\" style=\"stroke:rgb(128,65,52);fill:rgb(128,65,52);stroke-width:1\" />\n",
              "</g><g id=\"classic\" visibility=\"visible\" transform=\"rotate(-90.0,700.0,393.0) translate(700.0, 393.0)\">\n",
              "<polygon points=\"-5,-4.5 0,-2.5 5,-4.5 0,4.5\" transform=\"skewX(0) scale(1,1)\" style=\"stroke:rgb(245,206,162);fill:rgb(245,206,162);stroke-width:1\" />\n",
              "</g><g id=\"classic\" visibility=\"visible\" transform=\"rotate(-90,550.0,360.0) translate(550.0, 360.0)\">\n",
              "<polygon points=\"-5,-4.5 0,-2.5 5,-4.5 0,4.5\" transform=\"skewX(0) scale(1,1)\" style=\"stroke:rgb(120,238,240);fill:rgb(120,238,240);stroke-width:1\" />\n",
              "</g>\n",
              "      </svg>\n",
              "    "
            ]
          },
          "metadata": {}
        }
      ]
    },
    {
      "cell_type": "code",
      "source": [
        "#mouth\n",
        "mouth.jumpto(100,-100)\n",
        "mouth.begin_fill()\n",
        "draw_rectangle(mouth,100,25)\n",
        "mouth.end_fill()"
      ],
      "metadata": {
        "colab": {
          "base_uri": "https://localhost:8080/",
          "height": 1000
        },
        "id": "-ufRZ8Sd9PY5",
        "outputId": "5e686366-215c-4a4d-deb6-151ba9c83978"
      },
      "execution_count": null,
      "outputs": [
        {
          "output_type": "display_data",
          "data": {
            "text/plain": [
              "<IPython.core.display.HTML object>"
            ],
            "text/html": [
              "\n",
              "      <svg width=\"1000\" height=\"1000\">  \n",
              "        <rect width=\"100%\" height=\"100%\" style=\"fill:white;stroke:;stroke-width:1\"/>\n",
              "        \n",
              "        \n",
              "        <path fill-rule=\"evenodd\" fill-opacity=\"1\" d=\"M 300.0 300.0  L 1000.0 300.0  L 433.688 711.45  L 650.0 45.71  L 866.312 711.45  L 300.0 300.0  L 1000.0 300.0 \" stroke-linecap=\"round\" style=\"stroke:rgb(120,238,240);stroke-width:1\" fill=\"rgb(120,238,240)\" /><path fill-rule=\"evenodd\" fill-opacity=\"1\" d=\"M 500.0 490.0  A 35 35 0 0 0 500.0 420.0  A 35 35 0 0 0 500.0 490.0 \" stroke-linecap=\"round\" style=\"stroke:rgb(245,206,162);stroke-width:1\" fill=\"rgb(245,206,162)\" /><path fill-rule=\"evenodd\" fill-opacity=\"1\" d=\"M 810.0 490.0  A 35 35 0 0 0 810.0 420.0  A 35 35 0 0 0 810.0 490.0 \" stroke-linecap=\"round\" style=\"stroke:rgb(245,206,162);stroke-width:1\" fill=\"rgb(245,206,162)\" /><path fill-rule=\"evenodd\" fill-opacity=\"1\" d=\"M 650.0 550.0  A 150 150 0 0 0 650.0 250.0  A 150 150 0 0 0 650.0 550.0 \" stroke-linecap=\"round\" style=\"stroke:rgb(245,206,162);stroke-width:1\" fill=\"rgb(245,206,162)\" /><path fill-rule=\"evenodd\" fill-opacity=\"1\" d=\"M 520.0 620.0  L 790.0 620.0  L 790.0 350.0  L 520.0 350.0  L 520.0 620.0 \" stroke-linecap=\"round\" style=\"stroke:rgb(245,206,162);stroke-width:1\" fill=\"rgb(245,206,162)\" /><path fill-rule=\"evenodd\" fill-opacity=\"1\" d=\"M 550.0 620.0  L 750.0 620.0  L 750.0 770.0  L 550.0 770.0  L 550.0 620.0 \" stroke-linecap=\"round\" style=\"stroke:rgb(219,184,145);stroke-width:1\" fill=\"rgb(219,184,145)\" /><path fill-rule=\"evenodd\" fill-opacity=\"1\" d=\"M 600.0 450.0  A 40 40 0 0 0 600.0 370.0  A 40 40 0 0 0 600.0 450.0 \" stroke-linecap=\"round\" style=\"stroke:rgb(255,255,255);stroke-width:1\" fill=\"rgb(255,255,255)\" /><path fill-rule=\"evenodd\" fill-opacity=\"1\" d=\"M 700.0 450.0  A 40 40 0 0 0 700.0 370.0  A 40 40 0 0 0 700.0 450.0 \" stroke-linecap=\"round\" style=\"stroke:rgb(255,255,255);stroke-width:1\" fill=\"rgb(255,255,255)\" /><path fill-rule=\"evenodd\" fill-opacity=\"1\" d=\"M 600.0 425.0  A 30 30 0 0 0 600.0 365.0  A 30 30 0 0 0 600.0 425.0 \" stroke-linecap=\"round\" style=\"stroke:rgb(0,0,0);stroke-width:1\" fill=\"rgb(0,0,0)\" /><path fill-rule=\"evenodd\" fill-opacity=\"1\" d=\"M 700.0 425.0  A 30 30 0 0 0 700.0 365.0  A 30 30 0 0 0 700.0 425.0 \" stroke-linecap=\"round\" style=\"stroke:rgb(0,0,0);stroke-width:1\" fill=\"rgb(0,0,0)\" /><path fill-rule=\"evenodd\" fill-opacity=\"1\" d=\"M 640.0 460.0  L 665.0 460.0  L 665.0 515.0  L 640.0 515.0  L 640.0 460.0 \" stroke-linecap=\"round\" style=\"stroke:rgb(219,184,145);stroke-width:1\" fill=\"rgb(219,184,145)\" /><path fill-rule=\"evenodd\" fill-opacity=\"1\" d=\"M 600.0 600.0  L 700.0 600.0  L 700.0 575.0  L 600.0 575.0  L 600.0 600.0 \" stroke-linecap=\"round\" style=\"stroke:rgb(128,65,52);stroke-width:1\" fill=\"rgb(128,65,52)\" /><path fill-rule=\"evenodd\" fill-opacity=\"1\" d=\"M 600.0 393.0  A 40 40 0 0 0 600.0 313.0  A 40 40 0 0 0 600.0 393.0 \" stroke-linecap=\"round\" style=\"stroke:rgb(245,206,162);stroke-width:1\" fill=\"rgb(245,206,162)\" /><path fill-rule=\"evenodd\" fill-opacity=\"1\" d=\"M 700.0 393.0  A 40 40 0 0 0 700.0 313.0  A 40 40 0 0 0 700.0 393.0 \" stroke-linecap=\"round\" style=\"stroke:rgb(245,206,162);stroke-width:1\" fill=\"rgb(245,206,162)\" /><path fill-rule=\"evenodd\" fill-opacity=\"1\" d=\"M 550.0 360.0  L 750.0 360.0  L 750.0 330.0  L 550.0 330.0  L 550.0 360.0 \" stroke-linecap=\"round\" style=\"stroke:rgb(120,238,240);stroke-width:1\" fill=\"rgb(120,238,240)\" />\n",
              "        \n",
              "        \n",
              "        <g id=\"classic\" visibility=\"visible\" transform=\"rotate(54,1000.0,300.0) translate(1000.0, 300.0)\">\n",
              "<polygon points=\"-5,-4.5 0,-2.5 5,-4.5 0,4.5\" transform=\"skewX(0) scale(1,1)\" style=\"stroke:rgb(120,238,240);fill:rgb(120,238,240);stroke-width:1\" />\n",
              "</g><g id=\"classic\" visibility=\"visible\" transform=\"rotate(-90.0,520.0,620.0) translate(520.0, 620.0)\">\n",
              "<polygon points=\"-5,-4.5 0,-2.5 5,-4.5 0,4.5\" transform=\"skewX(0) scale(1,1)\" style=\"stroke:rgb(245,206,162);fill:rgb(245,206,162);stroke-width:1\" />\n",
              "</g><g id=\"classic\" visibility=\"visible\" transform=\"rotate(-90,550.0,620.0) translate(550.0, 620.0)\">\n",
              "<polygon points=\"-5,-4.5 0,-2.5 5,-4.5 0,4.5\" transform=\"skewX(0) scale(1,1)\" style=\"stroke:rgb(219,184,145);fill:rgb(219,184,145);stroke-width:1\" />\n",
              "</g><g id=\"classic\" visibility=\"visible\" transform=\"rotate(-90.0,700.0,450.0) translate(700.0, 450.0)\">\n",
              "<polygon points=\"-5,-4.5 0,-2.5 5,-4.5 0,4.5\" transform=\"skewX(0) scale(1,1)\" style=\"stroke:rgb(255,255,255);fill:rgb(255,255,255);stroke-width:1\" />\n",
              "</g><g id=\"classic\" visibility=\"visible\" transform=\"rotate(-90.0,700.0,425.0) translate(700.0, 425.0)\">\n",
              "<polygon points=\"-5,-4.5 0,-2.5 5,-4.5 0,4.5\" transform=\"skewX(0) scale(1,1)\" style=\"stroke:rgb(0,0,0);fill:rgb(0,0,0);stroke-width:1\" />\n",
              "</g><g id=\"classic\" visibility=\"visible\" transform=\"rotate(-90,640.0,460.0) translate(640.0, 460.0)\">\n",
              "<polygon points=\"-5,-4.5 0,-2.5 5,-4.5 0,4.5\" transform=\"skewX(0) scale(1,1)\" style=\"stroke:rgb(219,184,145);fill:rgb(219,184,145);stroke-width:1\" />\n",
              "</g><g id=\"classic\" visibility=\"visible\" transform=\"rotate(-90,600.0,600.0) translate(600.0, 600.0)\">\n",
              "<polygon points=\"-5,-4.5 0,-2.5 5,-4.5 0,4.5\" transform=\"skewX(0) scale(1,1)\" style=\"stroke:rgb(128,65,52);fill:rgb(128,65,52);stroke-width:1\" />\n",
              "</g><g id=\"classic\" visibility=\"visible\" transform=\"rotate(-90.0,700.0,393.0) translate(700.0, 393.0)\">\n",
              "<polygon points=\"-5,-4.5 0,-2.5 5,-4.5 0,4.5\" transform=\"skewX(0) scale(1,1)\" style=\"stroke:rgb(245,206,162);fill:rgb(245,206,162);stroke-width:1\" />\n",
              "</g><g id=\"classic\" visibility=\"visible\" transform=\"rotate(-90,550.0,360.0) translate(550.0, 360.0)\">\n",
              "<polygon points=\"-5,-4.5 0,-2.5 5,-4.5 0,4.5\" transform=\"skewX(0) scale(1,1)\" style=\"stroke:rgb(120,238,240);fill:rgb(120,238,240);stroke-width:1\" />\n",
              "</g>\n",
              "      </svg>\n",
              "    "
            ]
          },
          "metadata": {}
        }
      ]
    },
    {
      "cell_type": "code",
      "source": [
        "screen_obj = Screen()\n",
        "print(screen_obj)\n",
        "#save screen as svg\n",
        "screen_obj.saveSVG('portrait_2.svg', False)"
      ],
      "metadata": {
        "id": "aw_nCdWZxnof"
      },
      "execution_count": null,
      "outputs": []
    },
    {
      "cell_type": "markdown",
      "source": [
        "# Portrait 3"
      ],
      "metadata": {
        "id": "nNQ3n_vizodP"
      }
    },
    {
      "cell_type": "code",
      "execution_count": null,
      "metadata": {
        "colab": {
          "base_uri": "https://localhost:8080/"
        },
        "id": "HsOqTVjnATtb",
        "outputId": "aa04d88d-f4e9-4ee2-d439-5fd5adeb28d3"
      },
      "outputs": [
        {
          "output_type": "stream",
          "name": "stdout",
          "text": [
            "Looking in indexes: https://pypi.org/simple, https://us-python.pkg.dev/colab-wheels/public/simple/\n",
            "Collecting ColabTurtlePlus\n",
            "  Downloading ColabTurtlePlus-2.0.1-py3-none-any.whl (31 kB)\n",
            "Installing collected packages: ColabTurtlePlus\n",
            "Successfully installed ColabTurtlePlus-2.0.1\n"
          ]
        }
      ],
      "source": [
        "#uploading turtle program\n",
        "!pip install ColabTurtlePlus"
      ]
    },
    {
      "cell_type": "code",
      "source": [
        "#importing turtle plus and setting up basic commands and variables\n",
        "from ColabTurtlePlus.Turtle import *\n",
        "\n",
        "clearscreen()\n",
        "setup(1000,1000)\n",
        "\n",
        "#parts of the portrait 1\n",
        "hair = Turtle()\n",
        "hair.color((99, 70, 179))\n",
        "\n",
        "head = Turtle()\n",
        "head.color((245, 223, 201))\n",
        "\n",
        "blush= Turtle()\n",
        "blush.color((186, 24, 100))\n",
        "\n",
        "neck = Turtle()\n",
        "neck.color((222, 202, 182))\n",
        "\n",
        "weye = Turtle()\n",
        "weye.color((255,255,255))\n",
        "\n",
        "pupil = Turtle()\n",
        "pupil.color((0,0,0))\n",
        "\n",
        "nose = Turtle()\n",
        "nose.color((222, 202, 182))\n",
        "\n",
        "mouth = Turtle()\n",
        "mouth.color((138, 37, 37))\n",
        "\n",
        "\n",
        "\n",
        "#square\n",
        "def draw_square(Turtle_obj, side_length):\n",
        " for i in range(4):\n",
        "  Turtle_obj.forward(side_length)\n",
        "  Turtle_obj.left(90)\n",
        "\n",
        "#triangle\n",
        "def draw_triangle(Turtle_obj,side_length):\n",
        "  for side in range(3):\n",
        "    Turtle_obj.fd(side_length)\n",
        "    Turtle_obj.lt(360/3)\n",
        "\n",
        "#polygon\n",
        "def draw_polygon(Turtle_obj, side_number, side_length):\n",
        "  for side in range(side_number):\n",
        "    Turtle_obj.fd(side_length)\n",
        "    Turtle_obj.lt(360/side_number)\n",
        "\n",
        "#rectangle\n",
        "def draw_rectangle(Turtle_obj, side_length1,side_length2):\n",
        " for i in range(2):\n",
        "  Turtle_obj.forward(side_length1)\n",
        "  Turtle_obj.left(90)\n",
        "  Turtle_obj.forward(side_length2)\n",
        "  Turtle_obj.left(90)\n",
        "\n",
        "#reverse rectangle\n",
        "def draw_reverse_rectangle(Turtle_obj, side_length1,side_length2):\n",
        " for i in range(2):\n",
        "  Turtle_obj.forward(side_length1)\n",
        "  Turtle_obj.right(90)\n",
        "  Turtle_obj.forward(side_length2)\n",
        "  Turtle_obj.right(90)\n",
        "\n",
        "#star\n",
        "def draw_star(Turtle_obj, side_length):\n",
        "  for i in range(6):\n",
        "    Turtle_obj.forward(side_length)\n",
        "    Turtle_obj.right(144)\n",
        "\n",
        "#using tutrle circle function\n",
        "#Turtle.circle(150)"
      ],
      "metadata": {
        "colab": {
          "base_uri": "https://localhost:8080/",
          "height": 1000
        },
        "id": "f7_QE7PZAeOL",
        "outputId": "52684792-08db-4cbc-9217-c39a1f2448b2"
      },
      "execution_count": null,
      "outputs": [
        {
          "output_type": "stream",
          "name": "stdout",
          "text": [
            "Put clearscreen() as the first line in a cell (after the import command) to re-run turtle commands in the cell\n"
          ]
        },
        {
          "output_type": "display_data",
          "data": {
            "text/plain": [
              "<IPython.core.display.HTML object>"
            ],
            "text/html": [
              "\n",
              "      <svg width=\"1000\" height=\"1000\">  \n",
              "        <rect width=\"100%\" height=\"100%\" style=\"fill:white;stroke:;stroke-width:1\"/>\n",
              "        \n",
              "        \n",
              "        \n",
              "        \n",
              "        \n",
              "        <g id=\"classic\" visibility=\"visible\" transform=\"rotate(-90,500.0,500.0) translate(500.0, 500.0)\">\n",
              "<polygon points=\"-5,-4.5 0,-2.5 5,-4.5 0,4.5\" transform=\"skewX(0) scale(1,1)\" style=\"stroke:rgb(99,70,179);fill:rgb(99,70,179);stroke-width:1\" />\n",
              "</g><g id=\"classic\" visibility=\"visible\" transform=\"rotate(-90,500.0,500.0) translate(500.0, 500.0)\">\n",
              "<polygon points=\"-5,-4.5 0,-2.5 5,-4.5 0,4.5\" transform=\"skewX(0) scale(1,1)\" style=\"stroke:rgb(245,223,201);fill:rgb(245,223,201);stroke-width:1\" />\n",
              "</g><g id=\"classic\" visibility=\"visible\" transform=\"rotate(-90,500.0,500.0) translate(500.0, 500.0)\">\n",
              "<polygon points=\"-5,-4.5 0,-2.5 5,-4.5 0,4.5\" transform=\"skewX(0) scale(1,1)\" style=\"stroke:rgb(186,24,100);fill:rgb(186,24,100);stroke-width:1\" />\n",
              "</g><g id=\"classic\" visibility=\"visible\" transform=\"rotate(-90,500.0,500.0) translate(500.0, 500.0)\">\n",
              "<polygon points=\"-5,-4.5 0,-2.5 5,-4.5 0,4.5\" transform=\"skewX(0) scale(1,1)\" style=\"stroke:rgb(222,202,182);fill:rgb(222,202,182);stroke-width:1\" />\n",
              "</g><g id=\"classic\" visibility=\"visible\" transform=\"rotate(-90,500.0,500.0) translate(500.0, 500.0)\">\n",
              "<polygon points=\"-5,-4.5 0,-2.5 5,-4.5 0,4.5\" transform=\"skewX(0) scale(1,1)\" style=\"stroke:rgb(255,255,255);fill:rgb(255,255,255);stroke-width:1\" />\n",
              "</g><g id=\"classic\" visibility=\"visible\" transform=\"rotate(-90,500.0,500.0) translate(500.0, 500.0)\">\n",
              "<polygon points=\"-5,-4.5 0,-2.5 5,-4.5 0,4.5\" transform=\"skewX(0) scale(1,1)\" style=\"stroke:rgb(0,0,0);fill:rgb(0,0,0);stroke-width:1\" />\n",
              "</g><g id=\"classic\" visibility=\"visible\" transform=\"rotate(-90,500.0,500.0) translate(500.0, 500.0)\">\n",
              "<polygon points=\"-5,-4.5 0,-2.5 5,-4.5 0,4.5\" transform=\"skewX(0) scale(1,1)\" style=\"stroke:rgb(222,202,182);fill:rgb(222,202,182);stroke-width:1\" />\n",
              "</g><g id=\"classic\" visibility=\"visible\" transform=\"rotate(-90,500.0,500.0) translate(500.0, 500.0)\">\n",
              "<polygon points=\"-5,-4.5 0,-2.5 5,-4.5 0,4.5\" transform=\"skewX(0) scale(1,1)\" style=\"stroke:rgb(138,37,37);fill:rgb(138,37,37);stroke-width:1\" />\n",
              "</g>\n",
              "      </svg>\n",
              "    "
            ]
          },
          "metadata": {}
        }
      ]
    },
    {
      "cell_type": "code",
      "source": [
        "#hair base\n",
        "hair.jumpto(0,-200)\n",
        "hair.begin_fill()\n",
        "hair.circle(330)\n",
        "hair.end_fill()\n",
        "\n",
        "#buns\n",
        "hair.jumpto(-200,-280)\n",
        "hair.begin_fill()\n",
        "hair.circle(200)\n",
        "hair.end_fill()\n",
        "\n",
        "hair.jumpto(200,-280)\n",
        "hair.begin_fill()\n",
        "hair.circle(200)\n",
        "hair.end_fill()"
      ],
      "metadata": {
        "colab": {
          "base_uri": "https://localhost:8080/",
          "height": 1000
        },
        "id": "yPIxeATrJutz",
        "outputId": "1f63fcb2-f75f-4e98-e0d1-9f6663d68d57"
      },
      "execution_count": null,
      "outputs": [
        {
          "output_type": "display_data",
          "data": {
            "text/plain": [
              "<IPython.core.display.HTML object>"
            ],
            "text/html": [
              "\n",
              "      <svg width=\"1000\" height=\"1000\">  \n",
              "        <rect width=\"100%\" height=\"100%\" style=\"fill:white;stroke:;stroke-width:1\"/>\n",
              "        \n",
              "        \n",
              "        <path fill-rule=\"evenodd\" fill-opacity=\"1\" d=\"M 500.0 700.0  A 330 330 0 0 0 500.0 40.0  A 330 330 0 0 0 500.0 700.0 \" stroke-linecap=\"round\" style=\"stroke:rgb(99,70,179);stroke-width:1\" fill=\"rgb(99,70,179)\" /><path fill-rule=\"evenodd\" fill-opacity=\"1\" d=\"M 300.0 780.0  A 200 200 0 0 0 300.0 380.0  A 200 200 0 0 0 300.0 780.0 \" stroke-linecap=\"round\" style=\"stroke:rgb(99,70,179);stroke-width:1\" fill=\"rgb(99,70,179)\" /><path fill-rule=\"evenodd\" fill-opacity=\"1\" d=\"M 700.0 780.0  A 200 200 0 0 0 700.0 380.0  A 200 200 0 0 0 700.0 780.0 \" stroke-linecap=\"round\" style=\"stroke:rgb(99,70,179);stroke-width:1\" fill=\"rgb(99,70,179)\" />\n",
              "        \n",
              "        \n",
              "        <g id=\"classic\" visibility=\"visible\" transform=\"rotate(-90.0,700.0,780.0) translate(700.0, 780.0)\">\n",
              "<polygon points=\"-5,-4.5 0,-2.5 5,-4.5 0,4.5\" transform=\"skewX(0) scale(1,1)\" style=\"stroke:rgb(99,70,179);fill:rgb(99,70,179);stroke-width:1\" />\n",
              "</g><g id=\"classic\" visibility=\"visible\" transform=\"rotate(-90,500.0,500.0) translate(500.0, 500.0)\">\n",
              "<polygon points=\"-5,-4.5 0,-2.5 5,-4.5 0,4.5\" transform=\"skewX(0) scale(1,1)\" style=\"stroke:rgb(245,223,201);fill:rgb(245,223,201);stroke-width:1\" />\n",
              "</g><g id=\"classic\" visibility=\"visible\" transform=\"rotate(-90,500.0,500.0) translate(500.0, 500.0)\">\n",
              "<polygon points=\"-5,-4.5 0,-2.5 5,-4.5 0,4.5\" transform=\"skewX(0) scale(1,1)\" style=\"stroke:rgb(186,24,100);fill:rgb(186,24,100);stroke-width:1\" />\n",
              "</g><g id=\"classic\" visibility=\"visible\" transform=\"rotate(-90,500.0,500.0) translate(500.0, 500.0)\">\n",
              "<polygon points=\"-5,-4.5 0,-2.5 5,-4.5 0,4.5\" transform=\"skewX(0) scale(1,1)\" style=\"stroke:rgb(222,202,182);fill:rgb(222,202,182);stroke-width:1\" />\n",
              "</g><g id=\"classic\" visibility=\"visible\" transform=\"rotate(-90,500.0,500.0) translate(500.0, 500.0)\">\n",
              "<polygon points=\"-5,-4.5 0,-2.5 5,-4.5 0,4.5\" transform=\"skewX(0) scale(1,1)\" style=\"stroke:rgb(255,255,255);fill:rgb(255,255,255);stroke-width:1\" />\n",
              "</g><g id=\"classic\" visibility=\"visible\" transform=\"rotate(-90,500.0,500.0) translate(500.0, 500.0)\">\n",
              "<polygon points=\"-5,-4.5 0,-2.5 5,-4.5 0,4.5\" transform=\"skewX(0) scale(1,1)\" style=\"stroke:rgb(0,0,0);fill:rgb(0,0,0);stroke-width:1\" />\n",
              "</g><g id=\"classic\" visibility=\"visible\" transform=\"rotate(-90,500.0,500.0) translate(500.0, 500.0)\">\n",
              "<polygon points=\"-5,-4.5 0,-2.5 5,-4.5 0,4.5\" transform=\"skewX(0) scale(1,1)\" style=\"stroke:rgb(222,202,182);fill:rgb(222,202,182);stroke-width:1\" />\n",
              "</g><g id=\"classic\" visibility=\"visible\" transform=\"rotate(-90,500.0,500.0) translate(500.0, 500.0)\">\n",
              "<polygon points=\"-5,-4.5 0,-2.5 5,-4.5 0,4.5\" transform=\"skewX(0) scale(1,1)\" style=\"stroke:rgb(138,37,37);fill:rgb(138,37,37);stroke-width:1\" />\n",
              "</g>\n",
              "      </svg>\n",
              "    "
            ]
          },
          "metadata": {}
        }
      ]
    },
    {
      "cell_type": "code",
      "source": [
        "#head\n",
        "head.jumpto(-120,-190)\n",
        "head.begin_fill()\n",
        "draw_polygon(head,6,280)\n",
        "head.end_fill()\n",
        "\n",
        "#neck\n",
        "neck.jumpto(-95,-190)\n",
        "neck.begin_fill()\n",
        "draw_reverse_rectangle(neck,230,200)\n",
        "neck.end_fill()\n",
        "\n",
        "#blush\n",
        "blush.jumpto(-150,0)\n",
        "blush.begin_fill()\n",
        "draw_star(blush,75)\n",
        "blush.end_fill()\n",
        "\n",
        "blush.jumpto(150,0)\n",
        "blush.begin_fill()\n",
        "draw_star(blush,75)\n",
        "blush.end_fill()"
      ],
      "metadata": {
        "colab": {
          "base_uri": "https://localhost:8080/",
          "height": 1000
        },
        "id": "5CbJ0Oo3UYdL",
        "outputId": "3f5c4bbc-d55b-48be-8e81-73053c099814"
      },
      "execution_count": null,
      "outputs": [
        {
          "output_type": "display_data",
          "data": {
            "text/plain": [
              "<IPython.core.display.HTML object>"
            ],
            "text/html": [
              "\n",
              "      <svg width=\"1000\" height=\"1000\">  \n",
              "        <rect width=\"100%\" height=\"100%\" style=\"fill:white;stroke:;stroke-width:1\"/>\n",
              "        \n",
              "        \n",
              "        <path fill-rule=\"evenodd\" fill-opacity=\"1\" d=\"M 500.0 700.0  A 330 330 0 0 0 500.0 40.0  A 330 330 0 0 0 500.0 700.0 \" stroke-linecap=\"round\" style=\"stroke:rgb(99,70,179);stroke-width:1\" fill=\"rgb(99,70,179)\" /><path fill-rule=\"evenodd\" fill-opacity=\"1\" d=\"M 300.0 780.0  A 200 200 0 0 0 300.0 380.0  A 200 200 0 0 0 300.0 780.0 \" stroke-linecap=\"round\" style=\"stroke:rgb(99,70,179);stroke-width:1\" fill=\"rgb(99,70,179)\" /><path fill-rule=\"evenodd\" fill-opacity=\"1\" d=\"M 700.0 780.0  A 200 200 0 0 0 700.0 380.0  A 200 200 0 0 0 700.0 780.0 \" stroke-linecap=\"round\" style=\"stroke:rgb(99,70,179);stroke-width:1\" fill=\"rgb(99,70,179)\" /><path fill-rule=\"evenodd\" fill-opacity=\"1\" d=\"M 380.0 690.0  L 660.0 690.0  L 800.0 447.513  L 660.0 205.026  L 380.0 205.026  L 240.0 447.513  L 380.0 690.0 \" stroke-linecap=\"round\" style=\"stroke:rgb(245,223,201);stroke-width:1\" fill=\"rgb(245,223,201)\" /><path fill-rule=\"evenodd\" fill-opacity=\"1\" d=\"M 350.0 500.0  L 425.0 500.0  L 364.324 544.084  L 387.5 472.755  L 410.676 544.084  L 350.0 500.0  L 425.0 500.0 \" stroke-linecap=\"round\" style=\"stroke:rgb(186,24,100);stroke-width:1\" fill=\"rgb(186,24,100)\" /><path fill-rule=\"evenodd\" fill-opacity=\"1\" d=\"M 650.0 500.0  L 589.324 544.084  L 612.5 472.755  L 635.676 544.084  L 575.0 500.0  L 650.0 500.0  L 589.324 544.084 \" stroke-linecap=\"round\" style=\"stroke:rgb(186,24,100);stroke-width:1\" fill=\"rgb(186,24,100)\" /><path fill-rule=\"evenodd\" fill-opacity=\"1\" d=\"M 405.0 690.0  L 635.0 690.0  L 635.0 890.0  L 405.0 890.0  L 405.0 690.0 \" stroke-linecap=\"round\" style=\"stroke:rgb(222,202,182);stroke-width:1\" fill=\"rgb(222,202,182)\" />\n",
              "        \n",
              "        \n",
              "        <g id=\"classic\" visibility=\"visible\" transform=\"rotate(-90.0,700.0,780.0) translate(700.0, 780.0)\">\n",
              "<polygon points=\"-5,-4.5 0,-2.5 5,-4.5 0,4.5\" transform=\"skewX(0) scale(1,1)\" style=\"stroke:rgb(99,70,179);fill:rgb(99,70,179);stroke-width:1\" />\n",
              "</g><g id=\"classic\" visibility=\"visible\" transform=\"rotate(-90.0,380.0,690.0) translate(380.0, 690.0)\">\n",
              "<polygon points=\"-5,-4.5 0,-2.5 5,-4.5 0,4.5\" transform=\"skewX(0) scale(1,1)\" style=\"stroke:rgb(245,223,201);fill:rgb(245,223,201);stroke-width:1\" />\n",
              "</g><g id=\"classic\" visibility=\"visible\" transform=\"rotate(198,589.324,544.084) translate(589.324, 544.084)\">\n",
              "<polygon points=\"-5,-4.5 0,-2.5 5,-4.5 0,4.5\" transform=\"skewX(0) scale(1,1)\" style=\"stroke:rgb(186,24,100);fill:rgb(186,24,100);stroke-width:1\" />\n",
              "</g><g id=\"classic\" visibility=\"visible\" transform=\"rotate(-90,405.0,690.0) translate(405.0, 690.0)\">\n",
              "<polygon points=\"-5,-4.5 0,-2.5 5,-4.5 0,4.5\" transform=\"skewX(0) scale(1,1)\" style=\"stroke:rgb(222,202,182);fill:rgb(222,202,182);stroke-width:1\" />\n",
              "</g><g id=\"classic\" visibility=\"visible\" transform=\"rotate(-90,500.0,500.0) translate(500.0, 500.0)\">\n",
              "<polygon points=\"-5,-4.5 0,-2.5 5,-4.5 0,4.5\" transform=\"skewX(0) scale(1,1)\" style=\"stroke:rgb(255,255,255);fill:rgb(255,255,255);stroke-width:1\" />\n",
              "</g><g id=\"classic\" visibility=\"visible\" transform=\"rotate(-90,500.0,500.0) translate(500.0, 500.0)\">\n",
              "<polygon points=\"-5,-4.5 0,-2.5 5,-4.5 0,4.5\" transform=\"skewX(0) scale(1,1)\" style=\"stroke:rgb(0,0,0);fill:rgb(0,0,0);stroke-width:1\" />\n",
              "</g><g id=\"classic\" visibility=\"visible\" transform=\"rotate(-90,500.0,500.0) translate(500.0, 500.0)\">\n",
              "<polygon points=\"-5,-4.5 0,-2.5 5,-4.5 0,4.5\" transform=\"skewX(0) scale(1,1)\" style=\"stroke:rgb(222,202,182);fill:rgb(222,202,182);stroke-width:1\" />\n",
              "</g><g id=\"classic\" visibility=\"visible\" transform=\"rotate(-90,500.0,500.0) translate(500.0, 500.0)\">\n",
              "<polygon points=\"-5,-4.5 0,-2.5 5,-4.5 0,4.5\" transform=\"skewX(0) scale(1,1)\" style=\"stroke:rgb(138,37,37);fill:rgb(138,37,37);stroke-width:1\" />\n",
              "</g>\n",
              "      </svg>\n",
              "    "
            ]
          },
          "metadata": {}
        }
      ]
    },
    {
      "cell_type": "code",
      "source": [
        "#eyes\n",
        "\n",
        "#white of eye\n",
        "weye.jumpto(-100,75)\n",
        "weye.begin_fill()\n",
        "weye.circle(55)\n",
        "weye.end_fill()\n",
        "\n",
        "weye.jumpto(100,75)\n",
        "weye.begin_fill()\n",
        "weye.circle(55)\n",
        "weye.end_fill()\n",
        "\n",
        "#pupil\n",
        "pupil.jumpto(-100,100)\n",
        "pupil.begin_fill()\n",
        "pupil.circle(35)\n",
        "pupil.end_fill()\n",
        "\n",
        "pupil.jumpto(100,100)\n",
        "pupil.begin_fill()\n",
        "pupil.circle(35)\n",
        "pupil.end_fill()\n",
        "\n",
        "#eyebrows\n",
        "eyebrow=Turtle()\n",
        "eyebrow.color((99, 70, 179))\n",
        "\n",
        "eyebrow.jumpto(-150,200)\n",
        "eyebrow.lt(45)\n",
        "eyebrow.fd(30)\n",
        "eyebrow.rt(45)\n",
        "eyebrow.fd(75)\n",
        "\n",
        "eyebrow.jumpto(85,200)\n",
        "eyebrow.fd(75)\n",
        "eyebrow.rt(45)\n",
        "eyebrow.fd(30)"
      ],
      "metadata": {
        "colab": {
          "base_uri": "https://localhost:8080/",
          "height": 1000
        },
        "id": "kd_xmHnJXWbW",
        "outputId": "2d1bc489-44e7-45b0-d604-4a8694e8218c"
      },
      "execution_count": null,
      "outputs": [
        {
          "output_type": "display_data",
          "data": {
            "text/plain": [
              "<IPython.core.display.HTML object>"
            ],
            "text/html": [
              "\n",
              "      <svg width=\"1000\" height=\"1000\">  \n",
              "        <rect width=\"100%\" height=\"100%\" style=\"fill:white;stroke:;stroke-width:1\"/>\n",
              "        \n",
              "        \n",
              "        <path fill-rule=\"evenodd\" fill-opacity=\"1\" d=\"M 500.0 700.0  A 330 330 0 0 0 500.0 40.0  A 330 330 0 0 0 500.0 700.0 \" stroke-linecap=\"round\" style=\"stroke:rgb(99,70,179);stroke-width:1\" fill=\"rgb(99,70,179)\" /><path fill-rule=\"evenodd\" fill-opacity=\"1\" d=\"M 300.0 780.0  A 200 200 0 0 0 300.0 380.0  A 200 200 0 0 0 300.0 780.0 \" stroke-linecap=\"round\" style=\"stroke:rgb(99,70,179);stroke-width:1\" fill=\"rgb(99,70,179)\" /><path fill-rule=\"evenodd\" fill-opacity=\"1\" d=\"M 700.0 780.0  A 200 200 0 0 0 700.0 380.0  A 200 200 0 0 0 700.0 780.0 \" stroke-linecap=\"round\" style=\"stroke:rgb(99,70,179);stroke-width:1\" fill=\"rgb(99,70,179)\" /><path fill-rule=\"evenodd\" fill-opacity=\"1\" d=\"M 380.0 690.0  L 660.0 690.0  L 800.0 447.513  L 660.0 205.026  L 380.0 205.026  L 240.0 447.513  L 380.0 690.0 \" stroke-linecap=\"round\" style=\"stroke:rgb(245,223,201);stroke-width:1\" fill=\"rgb(245,223,201)\" /><path fill-rule=\"evenodd\" fill-opacity=\"1\" d=\"M 350.0 500.0  L 425.0 500.0  L 364.324 544.084  L 387.5 472.755  L 410.676 544.084  L 350.0 500.0  L 425.0 500.0 \" stroke-linecap=\"round\" style=\"stroke:rgb(186,24,100);stroke-width:1\" fill=\"rgb(186,24,100)\" /><path fill-rule=\"evenodd\" fill-opacity=\"1\" d=\"M 650.0 500.0  L 589.324 544.084  L 612.5 472.755  L 635.676 544.084  L 575.0 500.0  L 650.0 500.0  L 589.324 544.084 \" stroke-linecap=\"round\" style=\"stroke:rgb(186,24,100);stroke-width:1\" fill=\"rgb(186,24,100)\" /><path fill-rule=\"evenodd\" fill-opacity=\"1\" d=\"M 405.0 690.0  L 635.0 690.0  L 635.0 890.0  L 405.0 890.0  L 405.0 690.0 \" stroke-linecap=\"round\" style=\"stroke:rgb(222,202,182);stroke-width:1\" fill=\"rgb(222,202,182)\" /><path fill-rule=\"evenodd\" fill-opacity=\"1\" d=\"M 400.0 425.0  A 55 55 0 0 0 400.0 315.0  A 55 55 0 0 0 400.0 425.0 \" stroke-linecap=\"round\" style=\"stroke:rgb(255,255,255);stroke-width:1\" fill=\"rgb(255,255,255)\" /><path fill-rule=\"evenodd\" fill-opacity=\"1\" d=\"M 600.0 425.0  A 55 55 0 0 0 600.0 315.0  A 55 55 0 0 0 600.0 425.0 \" stroke-linecap=\"round\" style=\"stroke:rgb(255,255,255);stroke-width:1\" fill=\"rgb(255,255,255)\" /><path fill-rule=\"evenodd\" fill-opacity=\"1\" d=\"M 400.0 400.0  A 35 35 0 0 0 400.0 330.0  A 35 35 0 0 0 400.0 400.0 \" stroke-linecap=\"round\" style=\"stroke:rgb(0,0,0);stroke-width:1\" fill=\"rgb(0,0,0)\" /><path fill-rule=\"evenodd\" fill-opacity=\"1\" d=\"M 600.0 400.0  A 35 35 0 0 0 600.0 330.0  A 35 35 0 0 0 600.0 400.0 \" stroke-linecap=\"round\" style=\"stroke:rgb(0,0,0);stroke-width:1\" fill=\"rgb(0,0,0)\" /><line x1=\"350.0\" y1=\"300.0\" x2=\"371.213\" y2=\"278.787\" stroke-linecap=\"round\" style=\"stroke:rgb(99,70,179);stroke-width:1\" /><line x1=\"371.213\" y1=\"278.787\" x2=\"446.213\" y2=\"278.787\" stroke-linecap=\"round\" style=\"stroke:rgb(99,70,179);stroke-width:1\" /><line x1=\"585.0\" y1=\"300.0\" x2=\"660.0\" y2=\"300.0\" stroke-linecap=\"round\" style=\"stroke:rgb(99,70,179);stroke-width:1\" /><line x1=\"660.0\" y1=\"300.0\" x2=\"667.0710678118655\" y2=\"307.0710678118655\" stroke-linecap=\"round\" style=\"stroke:rgb(99,70,179);stroke-width:1\" /><line x1=\"667.0710678118655\" y1=\"307.0710678118655\" x2=\"674.1421356237311\" y2=\"314.14213562373095\" stroke-linecap=\"round\" style=\"stroke:rgb(99,70,179);stroke-width:1\" /><line x1=\"674.1421356237311\" y1=\"314.14213562373095\" x2=\"681.2132034355966\" y2=\"321.2132034355964\" stroke-linecap=\"round\" style=\"stroke:rgb(99,70,179);stroke-width:1\" />\n",
              "        \n",
              "        \n",
              "        <g id=\"classic\" visibility=\"visible\" transform=\"rotate(-90.0,700.0,780.0) translate(700.0, 780.0)\">\n",
              "<polygon points=\"-5,-4.5 0,-2.5 5,-4.5 0,4.5\" transform=\"skewX(0) scale(1,1)\" style=\"stroke:rgb(99,70,179);fill:rgb(99,70,179);stroke-width:1\" />\n",
              "</g><g id=\"classic\" visibility=\"visible\" transform=\"rotate(-90.0,380.0,690.0) translate(380.0, 690.0)\">\n",
              "<polygon points=\"-5,-4.5 0,-2.5 5,-4.5 0,4.5\" transform=\"skewX(0) scale(1,1)\" style=\"stroke:rgb(245,223,201);fill:rgb(245,223,201);stroke-width:1\" />\n",
              "</g><g id=\"classic\" visibility=\"visible\" transform=\"rotate(198,589.324,544.084) translate(589.324, 544.084)\">\n",
              "<polygon points=\"-5,-4.5 0,-2.5 5,-4.5 0,4.5\" transform=\"skewX(0) scale(1,1)\" style=\"stroke:rgb(186,24,100);fill:rgb(186,24,100);stroke-width:1\" />\n",
              "</g><g id=\"classic\" visibility=\"visible\" transform=\"rotate(-90,405.0,690.0) translate(405.0, 690.0)\">\n",
              "<polygon points=\"-5,-4.5 0,-2.5 5,-4.5 0,4.5\" transform=\"skewX(0) scale(1,1)\" style=\"stroke:rgb(222,202,182);fill:rgb(222,202,182);stroke-width:1\" />\n",
              "</g><g id=\"classic\" visibility=\"visible\" transform=\"rotate(-90.0,600.0,425.0) translate(600.0, 425.0)\">\n",
              "<polygon points=\"-5,-4.5 0,-2.5 5,-4.5 0,4.5\" transform=\"skewX(0) scale(1,1)\" style=\"stroke:rgb(255,255,255);fill:rgb(255,255,255);stroke-width:1\" />\n",
              "</g><g id=\"classic\" visibility=\"visible\" transform=\"rotate(-90.0,600.0,400.0) translate(600.0, 400.0)\">\n",
              "<polygon points=\"-5,-4.5 0,-2.5 5,-4.5 0,4.5\" transform=\"skewX(0) scale(1,1)\" style=\"stroke:rgb(0,0,0);fill:rgb(0,0,0);stroke-width:1\" />\n",
              "</g><g id=\"classic\" visibility=\"visible\" transform=\"rotate(-90,500.0,500.0) translate(500.0, 500.0)\">\n",
              "<polygon points=\"-5,-4.5 0,-2.5 5,-4.5 0,4.5\" transform=\"skewX(0) scale(1,1)\" style=\"stroke:rgb(222,202,182);fill:rgb(222,202,182);stroke-width:1\" />\n",
              "</g><g id=\"classic\" visibility=\"visible\" transform=\"rotate(-90,500.0,500.0) translate(500.0, 500.0)\">\n",
              "<polygon points=\"-5,-4.5 0,-2.5 5,-4.5 0,4.5\" transform=\"skewX(0) scale(1,1)\" style=\"stroke:rgb(138,37,37);fill:rgb(138,37,37);stroke-width:1\" />\n",
              "</g><g id=\"classic\" visibility=\"visible\" transform=\"rotate(-45,681.2132034355966,321.2132034355964) translate(681.2132034355966, 321.2132034355964)\">\n",
              "<polygon points=\"-5,-4.5 0,-2.5 5,-4.5 0,4.5\" transform=\"skewX(0) scale(1,1)\" style=\"stroke:rgb(99,70,179);fill:rgb(99,70,179);stroke-width:1\" />\n",
              "</g>\n",
              "      </svg>\n",
              "    "
            ]
          },
          "metadata": {}
        }
      ]
    },
    {
      "cell_type": "code",
      "source": [
        "#nose\n",
        "nose.begin_fill()\n",
        "nose.circle(40)\n",
        "nose.end_fill()"
      ],
      "metadata": {
        "colab": {
          "base_uri": "https://localhost:8080/",
          "height": 1000
        },
        "id": "OoyyJoLJePL4",
        "outputId": "480ef302-6cda-4053-e357-c0e88e439f84"
      },
      "execution_count": null,
      "outputs": [
        {
          "output_type": "display_data",
          "data": {
            "text/plain": [
              "<IPython.core.display.HTML object>"
            ],
            "text/html": [
              "\n",
              "      <svg width=\"1000\" height=\"1000\">  \n",
              "        <rect width=\"100%\" height=\"100%\" style=\"fill:white;stroke:;stroke-width:1\"/>\n",
              "        \n",
              "        \n",
              "        <path fill-rule=\"evenodd\" fill-opacity=\"1\" d=\"M 500.0 700.0  A 330 330 0 0 0 500.0 40.0  A 330 330 0 0 0 500.0 700.0 \" stroke-linecap=\"round\" style=\"stroke:rgb(99,70,179);stroke-width:1\" fill=\"rgb(99,70,179)\" /><path fill-rule=\"evenodd\" fill-opacity=\"1\" d=\"M 300.0 780.0  A 200 200 0 0 0 300.0 380.0  A 200 200 0 0 0 300.0 780.0 \" stroke-linecap=\"round\" style=\"stroke:rgb(99,70,179);stroke-width:1\" fill=\"rgb(99,70,179)\" /><path fill-rule=\"evenodd\" fill-opacity=\"1\" d=\"M 700.0 780.0  A 200 200 0 0 0 700.0 380.0  A 200 200 0 0 0 700.0 780.0 \" stroke-linecap=\"round\" style=\"stroke:rgb(99,70,179);stroke-width:1\" fill=\"rgb(99,70,179)\" /><path fill-rule=\"evenodd\" fill-opacity=\"1\" d=\"M 380.0 690.0  L 660.0 690.0  L 800.0 447.513  L 660.0 205.026  L 380.0 205.026  L 240.0 447.513  L 380.0 690.0 \" stroke-linecap=\"round\" style=\"stroke:rgb(245,223,201);stroke-width:1\" fill=\"rgb(245,223,201)\" /><path fill-rule=\"evenodd\" fill-opacity=\"1\" d=\"M 350.0 500.0  L 425.0 500.0  L 364.324 544.084  L 387.5 472.755  L 410.676 544.084  L 350.0 500.0  L 425.0 500.0 \" stroke-linecap=\"round\" style=\"stroke:rgb(186,24,100);stroke-width:1\" fill=\"rgb(186,24,100)\" /><path fill-rule=\"evenodd\" fill-opacity=\"1\" d=\"M 650.0 500.0  L 589.324 544.084  L 612.5 472.755  L 635.676 544.084  L 575.0 500.0  L 650.0 500.0  L 589.324 544.084 \" stroke-linecap=\"round\" style=\"stroke:rgb(186,24,100);stroke-width:1\" fill=\"rgb(186,24,100)\" /><path fill-rule=\"evenodd\" fill-opacity=\"1\" d=\"M 405.0 690.0  L 635.0 690.0  L 635.0 890.0  L 405.0 890.0  L 405.0 690.0 \" stroke-linecap=\"round\" style=\"stroke:rgb(222,202,182);stroke-width:1\" fill=\"rgb(222,202,182)\" /><path fill-rule=\"evenodd\" fill-opacity=\"1\" d=\"M 400.0 425.0  A 55 55 0 0 0 400.0 315.0  A 55 55 0 0 0 400.0 425.0 \" stroke-linecap=\"round\" style=\"stroke:rgb(255,255,255);stroke-width:1\" fill=\"rgb(255,255,255)\" /><path fill-rule=\"evenodd\" fill-opacity=\"1\" d=\"M 600.0 425.0  A 55 55 0 0 0 600.0 315.0  A 55 55 0 0 0 600.0 425.0 \" stroke-linecap=\"round\" style=\"stroke:rgb(255,255,255);stroke-width:1\" fill=\"rgb(255,255,255)\" /><path fill-rule=\"evenodd\" fill-opacity=\"1\" d=\"M 400.0 400.0  A 35 35 0 0 0 400.0 330.0  A 35 35 0 0 0 400.0 400.0 \" stroke-linecap=\"round\" style=\"stroke:rgb(0,0,0);stroke-width:1\" fill=\"rgb(0,0,0)\" /><path fill-rule=\"evenodd\" fill-opacity=\"1\" d=\"M 600.0 400.0  A 35 35 0 0 0 600.0 330.0  A 35 35 0 0 0 600.0 400.0 \" stroke-linecap=\"round\" style=\"stroke:rgb(0,0,0);stroke-width:1\" fill=\"rgb(0,0,0)\" /><path fill-rule=\"evenodd\" fill-opacity=\"1\" d=\"M 500.0 500.0  A 40 40 0 0 0 500.0 420.0  A 40 40 0 0 0 500.0 500.0 \" stroke-linecap=\"round\" style=\"stroke:rgb(222,202,182);stroke-width:1\" fill=\"rgb(222,202,182)\" /><line x1=\"350.0\" y1=\"300.0\" x2=\"371.213\" y2=\"278.787\" stroke-linecap=\"round\" style=\"stroke:rgb(99,70,179);stroke-width:1\" /><line x1=\"371.213\" y1=\"278.787\" x2=\"446.213\" y2=\"278.787\" stroke-linecap=\"round\" style=\"stroke:rgb(99,70,179);stroke-width:1\" /><line x1=\"585.0\" y1=\"300.0\" x2=\"660.0\" y2=\"300.0\" stroke-linecap=\"round\" style=\"stroke:rgb(99,70,179);stroke-width:1\" /><line x1=\"660.0\" y1=\"300.0\" x2=\"681.213\" y2=\"321.213\" stroke-linecap=\"round\" style=\"stroke:rgb(99,70,179);stroke-width:1\" />\n",
              "        \n",
              "        \n",
              "        <g id=\"classic\" visibility=\"visible\" transform=\"rotate(-90.0,700.0,780.0) translate(700.0, 780.0)\">\n",
              "<polygon points=\"-5,-4.5 0,-2.5 5,-4.5 0,4.5\" transform=\"skewX(0) scale(1,1)\" style=\"stroke:rgb(99,70,179);fill:rgb(99,70,179);stroke-width:1\" />\n",
              "</g><g id=\"classic\" visibility=\"visible\" transform=\"rotate(-90.0,380.0,690.0) translate(380.0, 690.0)\">\n",
              "<polygon points=\"-5,-4.5 0,-2.5 5,-4.5 0,4.5\" transform=\"skewX(0) scale(1,1)\" style=\"stroke:rgb(245,223,201);fill:rgb(245,223,201);stroke-width:1\" />\n",
              "</g><g id=\"classic\" visibility=\"visible\" transform=\"rotate(198,589.324,544.084) translate(589.324, 544.084)\">\n",
              "<polygon points=\"-5,-4.5 0,-2.5 5,-4.5 0,4.5\" transform=\"skewX(0) scale(1,1)\" style=\"stroke:rgb(186,24,100);fill:rgb(186,24,100);stroke-width:1\" />\n",
              "</g><g id=\"classic\" visibility=\"visible\" transform=\"rotate(-90,405.0,690.0) translate(405.0, 690.0)\">\n",
              "<polygon points=\"-5,-4.5 0,-2.5 5,-4.5 0,4.5\" transform=\"skewX(0) scale(1,1)\" style=\"stroke:rgb(222,202,182);fill:rgb(222,202,182);stroke-width:1\" />\n",
              "</g><g id=\"classic\" visibility=\"visible\" transform=\"rotate(-90.0,600.0,425.0) translate(600.0, 425.0)\">\n",
              "<polygon points=\"-5,-4.5 0,-2.5 5,-4.5 0,4.5\" transform=\"skewX(0) scale(1,1)\" style=\"stroke:rgb(255,255,255);fill:rgb(255,255,255);stroke-width:1\" />\n",
              "</g><g id=\"classic\" visibility=\"visible\" transform=\"rotate(-90.0,600.0,400.0) translate(600.0, 400.0)\">\n",
              "<polygon points=\"-5,-4.5 0,-2.5 5,-4.5 0,4.5\" transform=\"skewX(0) scale(1,1)\" style=\"stroke:rgb(0,0,0);fill:rgb(0,0,0);stroke-width:1\" />\n",
              "</g><g id=\"classic\" visibility=\"visible\" transform=\"rotate(-90.0,500.0,500.0) translate(500.0, 500.0)\">\n",
              "<polygon points=\"-5,-4.5 0,-2.5 5,-4.5 0,4.5\" transform=\"skewX(0) scale(1,1)\" style=\"stroke:rgb(222,202,182);fill:rgb(222,202,182);stroke-width:1\" />\n",
              "</g><g id=\"classic\" visibility=\"visible\" transform=\"rotate(-90,500.0,500.0) translate(500.0, 500.0)\">\n",
              "<polygon points=\"-5,-4.5 0,-2.5 5,-4.5 0,4.5\" transform=\"skewX(0) scale(1,1)\" style=\"stroke:rgb(138,37,37);fill:rgb(138,37,37);stroke-width:1\" />\n",
              "</g><g id=\"classic\" visibility=\"visible\" transform=\"rotate(-45,681.213,321.213) translate(681.213, 321.213)\">\n",
              "<polygon points=\"-5,-4.5 0,-2.5 5,-4.5 0,4.5\" transform=\"skewX(0) scale(1,1)\" style=\"stroke:rgb(99,70,179);fill:rgb(99,70,179);stroke-width:1\" />\n",
              "</g>\n",
              "      </svg>\n",
              "    "
            ]
          },
          "metadata": {}
        }
      ]
    },
    {
      "cell_type": "code",
      "source": [
        "#mouth\n",
        "mouth.jumpto(0,-120)\n",
        "mouth.begin_fill()\n",
        "mouth.circle(30)\n",
        "mouth.end_fill()\n",
        "\n",
        "mouth.jumpto(0,-150)\n",
        "mouth.begin_fill()\n",
        "mouth.circle(30)\n",
        "mouth.end_fill()"
      ],
      "metadata": {
        "colab": {
          "base_uri": "https://localhost:8080/",
          "height": 1000
        },
        "id": "oKdSUB4GknaU",
        "outputId": "eda3d0a7-b110-4cc2-9908-c197884f3223"
      },
      "execution_count": null,
      "outputs": [
        {
          "output_type": "display_data",
          "data": {
            "text/plain": [
              "<IPython.core.display.HTML object>"
            ],
            "text/html": [
              "\n",
              "      <svg width=\"1000\" height=\"1000\">  \n",
              "        <rect width=\"100%\" height=\"100%\" style=\"fill:white;stroke:;stroke-width:1\"/>\n",
              "        \n",
              "        \n",
              "        <path fill-rule=\"evenodd\" fill-opacity=\"1\" d=\"M 500.0 550.0  A 30 30 0 0 0 500.0 490.0  A 30 30 0 0 0 500.0 550.0 \" stroke-linecap=\"round\" style=\"stroke:rgb(138,37,37);stroke-width:1\" fill=\"rgb(138,37,37)\" /><path fill-rule=\"evenodd\" fill-opacity=\"1\" d=\"M 500.0 650.0  A 30 30 0 0 0 500.0 590.0  A 30 30 0 0 0 500.0 650.0 \" stroke-linecap=\"round\" style=\"stroke:rgb(138,37,37);stroke-width:1\" fill=\"rgb(138,37,37)\" /><path fill-rule=\"evenodd\" fill-opacity=\"1\" d=\"M 500.0 600.0  A 30 30 0 0 0 500.0 540.0  A 30 30 0 0 0 500.0 600.0 \" stroke-linecap=\"round\" style=\"stroke:rgb(138,37,37);stroke-width:1\" fill=\"rgb(138,37,37)\" /><path fill-rule=\"evenodd\" fill-opacity=\"1\" d=\"M 500.0 650.0  A 30 30 0 0 0 500.0 590.0  A 30 30 0 0 0 500.0 650.0 \" stroke-linecap=\"round\" style=\"stroke:rgb(138,37,37);stroke-width:1\" fill=\"rgb(138,37,37)\" /><path fill-rule=\"evenodd\" fill-opacity=\"1\" d=\"M 500.0 620.0  A 30 30 0 0 0 500.0 560.0  A 30 30 0 0 0 500.0 620.0 \" stroke-linecap=\"round\" style=\"stroke:rgb(138,37,37);stroke-width:1\" fill=\"rgb(138,37,37)\" /><path fill-rule=\"evenodd\" fill-opacity=\"1\" d=\"M 500.0 650.0  A 30 30 0 0 0 500.0 590.0  A 30 30 0 0 0 500.0 650.0 \" stroke-linecap=\"round\" style=\"stroke:rgb(138,37,37);stroke-width:1\" fill=\"rgb(138,37,37)\" />\n",
              "        \n",
              "        \n",
              "        <g id=\"classic\" visibility=\"visible\" transform=\"rotate(-90,500.0,500.0) translate(500.0, 500.0)\">\n",
              "<polygon points=\"-5,-4.5 0,-2.5 5,-4.5 0,4.5\" transform=\"skewX(0) scale(1,1)\" style=\"stroke:rgb(99,70,179);fill:rgb(99,70,179);stroke-width:1\" />\n",
              "</g><g id=\"classic\" visibility=\"visible\" transform=\"rotate(-90,500.0,500.0) translate(500.0, 500.0)\">\n",
              "<polygon points=\"-5,-4.5 0,-2.5 5,-4.5 0,4.5\" transform=\"skewX(0) scale(1,1)\" style=\"stroke:rgb(245,223,201);fill:rgb(245,223,201);stroke-width:1\" />\n",
              "</g><g id=\"classic\" visibility=\"visible\" transform=\"rotate(-90,500.0,500.0) translate(500.0, 500.0)\">\n",
              "<polygon points=\"-5,-4.5 0,-2.5 5,-4.5 0,4.5\" transform=\"skewX(0) scale(1,1)\" style=\"stroke:rgb(186,24,100);fill:rgb(186,24,100);stroke-width:1\" />\n",
              "</g><g id=\"classic\" visibility=\"visible\" transform=\"rotate(-90,500.0,500.0) translate(500.0, 500.0)\">\n",
              "<polygon points=\"-5,-4.5 0,-2.5 5,-4.5 0,4.5\" transform=\"skewX(0) scale(1,1)\" style=\"stroke:rgb(222,202,182);fill:rgb(222,202,182);stroke-width:1\" />\n",
              "</g><g id=\"classic\" visibility=\"visible\" transform=\"rotate(-90,500.0,500.0) translate(500.0, 500.0)\">\n",
              "<polygon points=\"-5,-4.5 0,-2.5 5,-4.5 0,4.5\" transform=\"skewX(0) scale(1,1)\" style=\"stroke:rgb(255,255,255);fill:rgb(255,255,255);stroke-width:1\" />\n",
              "</g><g id=\"classic\" visibility=\"visible\" transform=\"rotate(-90,500.0,500.0) translate(500.0, 500.0)\">\n",
              "<polygon points=\"-5,-4.5 0,-2.5 5,-4.5 0,4.5\" transform=\"skewX(0) scale(1,1)\" style=\"stroke:rgb(0,0,0);fill:rgb(0,0,0);stroke-width:1\" />\n",
              "</g><g id=\"classic\" visibility=\"visible\" transform=\"rotate(-90,500.0,500.0) translate(500.0, 500.0)\">\n",
              "<polygon points=\"-5,-4.5 0,-2.5 5,-4.5 0,4.5\" transform=\"skewX(0) scale(1,1)\" style=\"stroke:rgb(222,202,182);fill:rgb(222,202,182);stroke-width:1\" />\n",
              "</g><g id=\"classic\" visibility=\"visible\" transform=\"rotate(-90.0,500.0,650.0) translate(500.0, 650.0)\">\n",
              "<polygon points=\"-5,-4.5 0,-2.5 5,-4.5 0,4.5\" transform=\"skewX(0) scale(1,1)\" style=\"stroke:rgb(138,37,37);fill:rgb(138,37,37);stroke-width:1\" />\n",
              "</g>\n",
              "      </svg>\n",
              "    "
            ]
          },
          "metadata": {}
        }
      ]
    },
    {
      "cell_type": "code",
      "source": [
        "screen_obj = Screen()\n",
        "print(screen_obj)\n",
        "#save screen as svg\n",
        "screen_obj.saveSVG('portrait_3.svg', False)"
      ],
      "metadata": {
        "id": "oIIaDPh5xi9F"
      },
      "execution_count": null,
      "outputs": []
    },
    {
      "cell_type": "markdown",
      "source": [
        "Any and all help that I found while executing this project came from these sources as well as the guided teachings of john decker.\n",
        "\n",
        "research outlets\n",
        "\n",
        "https://www.vice.com/en/article/a359vz/purecss-amazing-image-made-of-code-looks-different-based-on-your-browser\n",
        "\n",
        "https://www.w3schools.com/css/css_image_gallery.asp\n",
        "\n",
        "https://www.thisiscolossal.com/2019/11/css-portraits-diana-smith/\n",
        "\n",
        "https://timnwells.medium.com/create-a-simple-responsive-image-gallery-with-html-and-css-fcb973f595ea\n",
        "\n",
        "https://larryriddle.agnesscott.org/ColabTurtlePlus/documentation.html\n",
        "\n",
        "https://docs.python.org/3/library/turtle.html \n",
        "\n",
        "https://code.visualstudio.com/docs/python/python-tutorial\n",
        "\n",
        "https://github.com/topics/generative-art\n",
        "\n",
        "https://towardsdatascience.com/how-i-built-an-ai-text-to-art-generator-a0c0f6d6f59f\n",
        "\n",
        "https://text2art.com/\n",
        "\n",
        "generative art research\n",
        "\n",
        "https://colab.research.google.com/github/robgon-art/MachineRay2/blob/main/MachineRay2_Image_Generation.ipynb\n",
        "\n",
        "https://www.youtube.com/watch?v=YyB5yzbZuc8\n",
        "\n",
        "Function rabbit hole\n",
        "\n",
        "https://colab.research.google.com/github/QuantEcon/quantecon-notebooks-python/blob/master/functions.ipynb\n",
        "\n",
        "https://colab.research.google.com/drive/14u6IcWomTTa2Gmc8beukOnJGUcOX1bOp#scrollTo=4CtcouF-WS2u\n",
        "\n",
        "https://colab.research.google.com/github/anthony-agbay/python-resource-guide/blob/master/notebooks/functions.ipynb\n",
        "\n",
        "https://colab.research.google.com/github/QuantEcon/quantecon-notebooks-python/blob/master/functions.ipynb\n",
        "\n",
        "\n",
        "Color picker\n",
        "\n",
        "https://www.google.com/search?q=color+picker&rlz=1C1CHBF_enUS1009US1009&oq=color+picker&aqs=chrome..69i57j0i512j69i59j0i433i512l2j0i512j0i433i512l3.2229j0j9&sourceid=chrome&ie=UTF-8\n",
        "\n",
        "Turtle for google colab\n",
        "\n",
        "https://github.com/tolgaatam/ColabTurtle\n",
        "\n",
        "Random num gen\n",
        "\n",
        "https://colab.research.google.com/drive/1xNXH-Vr9FKRA1GOAj69FDKkPN963SQDX?usp=sharing#scrollTo=v_XtrcTHbVLw\n",
        "\n",
        "\n",
        "\n",
        "\n",
        "\n",
        "\n"
      ],
      "metadata": {
        "id": "k5HXCjo90QBl"
      }
    }
  ]
}